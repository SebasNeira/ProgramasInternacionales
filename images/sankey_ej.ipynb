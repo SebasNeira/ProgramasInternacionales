{
 "cells": [
  {
   "cell_type": "code",
   "execution_count": 2,
   "metadata": {},
   "outputs": [],
   "source": [
    "import pandas as pd\n",
    "import plotly.graph_objects as go"
   ]
  },
  {
   "cell_type": "code",
   "execution_count": 3,
   "metadata": {},
   "outputs": [
    {
     "data": {
      "text/html": [
       "<div>\n",
       "<style scoped>\n",
       "    .dataframe tbody tr th:only-of-type {\n",
       "        vertical-align: middle;\n",
       "    }\n",
       "\n",
       "    .dataframe tbody tr th {\n",
       "        vertical-align: top;\n",
       "    }\n",
       "\n",
       "    .dataframe thead th {\n",
       "        text-align: right;\n",
       "    }\n",
       "</style>\n",
       "<table border=\"1\" class=\"dataframe\">\n",
       "  <thead>\n",
       "    <tr style=\"text-align: right;\">\n",
       "      <th></th>\n",
       "      <th>Unnamed: 0</th>\n",
       "      <th>Instancia</th>\n",
       "      <th>Matrícula</th>\n",
       "      <th>Nombre</th>\n",
       "      <th>Ap Paterno</th>\n",
       "      <th>Ap Materno</th>\n",
       "      <th>Campus</th>\n",
       "      <th>Programa</th>\n",
       "      <th>Promedio</th>\n",
       "      <th>Núm. MatAprobadas</th>\n",
       "      <th>...</th>\n",
       "      <th>CampusAdministrador</th>\n",
       "      <th>PeriodoAcadémico</th>\n",
       "      <th>Actividad Actual</th>\n",
       "      <th>Fecha</th>\n",
       "      <th>Estatuslimpio</th>\n",
       "      <th>Intercambio Internacional</th>\n",
       "      <th>PrimeraOpcion</th>\n",
       "      <th>PaisSeleccionado</th>\n",
       "      <th>PaisAsignado</th>\n",
       "      <th>Región</th>\n",
       "    </tr>\n",
       "  </thead>\n",
       "  <tbody>\n",
       "    <tr>\n",
       "      <th>0</th>\n",
       "      <td>0</td>\n",
       "      <td>8453</td>\n",
       "      <td>A01139867</td>\n",
       "      <td>Andrés Gerardo</td>\n",
       "      <td>Garza</td>\n",
       "      <td>Canales</td>\n",
       "      <td>Monterrey</td>\n",
       "      <td>INT</td>\n",
       "      <td>90.491</td>\n",
       "      <td>57.0</td>\n",
       "      <td>...</td>\n",
       "      <td>Querétaro</td>\n",
       "      <td>Enero - Mayo 2015</td>\n",
       "      <td>Resultado de Asignación</td>\n",
       "      <td>20/AGO/2014 02:22PM</td>\n",
       "      <td>Asignado</td>\n",
       "      <td>Intercambio Internacional</td>\n",
       "      <td>Si</td>\n",
       "      <td>Estados Unidos</td>\n",
       "      <td>Estados Unidos</td>\n",
       "      <td>Norte</td>\n",
       "    </tr>\n",
       "    <tr>\n",
       "      <th>1</th>\n",
       "      <td>1</td>\n",
       "      <td>8289</td>\n",
       "      <td>A01018302</td>\n",
       "      <td>Pablo</td>\n",
       "      <td>Zebadúa</td>\n",
       "      <td>Vega</td>\n",
       "      <td>Santa Fe</td>\n",
       "      <td>ITC</td>\n",
       "      <td>85.684</td>\n",
       "      <td>0.0</td>\n",
       "      <td>...</td>\n",
       "      <td>Monterrey</td>\n",
       "      <td>Enero - Mayo 2015</td>\n",
       "      <td>Resultado de Asignación</td>\n",
       "      <td>29/AGO/2014 04:34PM</td>\n",
       "      <td>Asignado</td>\n",
       "      <td>Intercambio Internacional</td>\n",
       "      <td>No</td>\n",
       "      <td>Otro</td>\n",
       "      <td>Otro</td>\n",
       "      <td>Ciudad de Mexico</td>\n",
       "    </tr>\n",
       "    <tr>\n",
       "      <th>2</th>\n",
       "      <td>2</td>\n",
       "      <td>8510</td>\n",
       "      <td>A01205500</td>\n",
       "      <td>Laura</td>\n",
       "      <td>Treviño</td>\n",
       "      <td>Hernández</td>\n",
       "      <td>Querétaro</td>\n",
       "      <td>ISC</td>\n",
       "      <td>89.810</td>\n",
       "      <td>0.0</td>\n",
       "      <td>...</td>\n",
       "      <td>Monterrey</td>\n",
       "      <td>Enero - Mayo 2015</td>\n",
       "      <td>Resultado de Asignación</td>\n",
       "      <td>29/AGO/2014 04:35PM</td>\n",
       "      <td>Asignado</td>\n",
       "      <td>Intercambio Internacional</td>\n",
       "      <td>Si</td>\n",
       "      <td>República Checa</td>\n",
       "      <td>República Checa</td>\n",
       "      <td>Centro Sur</td>\n",
       "    </tr>\n",
       "    <tr>\n",
       "      <th>3</th>\n",
       "      <td>3</td>\n",
       "      <td>8007</td>\n",
       "      <td>A01139036</td>\n",
       "      <td>Arturo Mauricio</td>\n",
       "      <td>Lara</td>\n",
       "      <td>Martínez</td>\n",
       "      <td>Monterrey</td>\n",
       "      <td>CPF</td>\n",
       "      <td>85.465</td>\n",
       "      <td>0.0</td>\n",
       "      <td>...</td>\n",
       "      <td>Guadalajara</td>\n",
       "      <td>Enero - Mayo 2015</td>\n",
       "      <td>Resultado de Asignación</td>\n",
       "      <td>29/AGO/2014 04:43PM</td>\n",
       "      <td>Asignado</td>\n",
       "      <td>Intercambio Internacional</td>\n",
       "      <td>No</td>\n",
       "      <td>Alemania</td>\n",
       "      <td>Otro</td>\n",
       "      <td>Norte</td>\n",
       "    </tr>\n",
       "    <tr>\n",
       "      <th>4</th>\n",
       "      <td>4</td>\n",
       "      <td>14315</td>\n",
       "      <td>A00757284</td>\n",
       "      <td>Ana Gabriela</td>\n",
       "      <td>Amaro</td>\n",
       "      <td>Rodríguez</td>\n",
       "      <td>Chihuahua</td>\n",
       "      <td>LMC</td>\n",
       "      <td>84.523</td>\n",
       "      <td>0.0</td>\n",
       "      <td>...</td>\n",
       "      <td>Ciudad de México</td>\n",
       "      <td>Enero - Mayo 2015</td>\n",
       "      <td>Resultado de Asignación</td>\n",
       "      <td>29/AGO/2014 04:43PM</td>\n",
       "      <td>Asignado</td>\n",
       "      <td>Intercambio Internacional</td>\n",
       "      <td>No</td>\n",
       "      <td>España</td>\n",
       "      <td>Otro</td>\n",
       "      <td>Occidente</td>\n",
       "    </tr>\n",
       "    <tr>\n",
       "      <th>...</th>\n",
       "      <td>...</td>\n",
       "      <td>...</td>\n",
       "      <td>...</td>\n",
       "      <td>...</td>\n",
       "      <td>...</td>\n",
       "      <td>...</td>\n",
       "      <td>...</td>\n",
       "      <td>...</td>\n",
       "      <td>...</td>\n",
       "      <td>...</td>\n",
       "      <td>...</td>\n",
       "      <td>...</td>\n",
       "      <td>...</td>\n",
       "      <td>...</td>\n",
       "      <td>...</td>\n",
       "      <td>...</td>\n",
       "      <td>...</td>\n",
       "      <td>...</td>\n",
       "      <td>...</td>\n",
       "      <td>...</td>\n",
       "      <td>...</td>\n",
       "    </tr>\n",
       "    <tr>\n",
       "      <th>47843</th>\n",
       "      <td>81342</td>\n",
       "      <td>589572</td>\n",
       "      <td>A01365530</td>\n",
       "      <td>Isabella</td>\n",
       "      <td>Hernández</td>\n",
       "      <td>Valdespino</td>\n",
       "      <td>Santa Fe</td>\n",
       "      <td>LEM</td>\n",
       "      <td>92.326</td>\n",
       "      <td>46.0</td>\n",
       "      <td>...</td>\n",
       "      <td>Monterrey</td>\n",
       "      <td>Verano 2022 Profesional</td>\n",
       "      <td>Resultado de Asignación</td>\n",
       "      <td>30/03/22 17:01</td>\n",
       "      <td>Asignado</td>\n",
       "      <td>Study Abroad</td>\n",
       "      <td>Si</td>\n",
       "      <td>Italia</td>\n",
       "      <td>Italia</td>\n",
       "      <td>Ciudad de Mexico</td>\n",
       "    </tr>\n",
       "    <tr>\n",
       "      <th>47844</th>\n",
       "      <td>81346</td>\n",
       "      <td>577669</td>\n",
       "      <td>A01561940</td>\n",
       "      <td>Ashley Alessandra</td>\n",
       "      <td>Valenzuela</td>\n",
       "      <td>Camacho</td>\n",
       "      <td>Chihuahua</td>\n",
       "      <td>IMA</td>\n",
       "      <td>92.024</td>\n",
       "      <td>41.0</td>\n",
       "      <td>...</td>\n",
       "      <td>Monterrey</td>\n",
       "      <td>Agosto - Diciembre 2022</td>\n",
       "      <td>Registro de carta de aceptación</td>\n",
       "      <td>30/03/22 17:10</td>\n",
       "      <td>Asignado</td>\n",
       "      <td>Intercambio Internacional</td>\n",
       "      <td>Si</td>\n",
       "      <td>Otro</td>\n",
       "      <td>Otro</td>\n",
       "      <td>Occidente</td>\n",
       "    </tr>\n",
       "    <tr>\n",
       "      <th>47845</th>\n",
       "      <td>81349</td>\n",
       "      <td>579143</td>\n",
       "      <td>A01283470</td>\n",
       "      <td>Mariana</td>\n",
       "      <td>Blando</td>\n",
       "      <td>Ortiz</td>\n",
       "      <td>Monterrey</td>\n",
       "      <td>LDI</td>\n",
       "      <td>87.648</td>\n",
       "      <td>38.0</td>\n",
       "      <td>...</td>\n",
       "      <td>Monterrey</td>\n",
       "      <td>Agosto - Diciembre 2022</td>\n",
       "      <td>Documentos de admisión (checklist) y Registrar...</td>\n",
       "      <td>30/03/22 17:19</td>\n",
       "      <td>Asignado</td>\n",
       "      <td>Study Abroad</td>\n",
       "      <td>Si</td>\n",
       "      <td>Italia</td>\n",
       "      <td>Italia</td>\n",
       "      <td>Norte</td>\n",
       "    </tr>\n",
       "    <tr>\n",
       "      <th>47846</th>\n",
       "      <td>81352</td>\n",
       "      <td>589315</td>\n",
       "      <td>A01154926</td>\n",
       "      <td>Luis Antonio</td>\n",
       "      <td>Urenda</td>\n",
       "      <td>Zacarías</td>\n",
       "      <td>Monterrey</td>\n",
       "      <td>IFI</td>\n",
       "      <td>86.714</td>\n",
       "      <td>48.0</td>\n",
       "      <td>...</td>\n",
       "      <td>Querétaro</td>\n",
       "      <td>Verano 2022 Profesional</td>\n",
       "      <td>Documentos de admisión (checklist) y Registrar...</td>\n",
       "      <td>30/03/22 17:25</td>\n",
       "      <td>Asignado</td>\n",
       "      <td>Study Abroad</td>\n",
       "      <td>Si</td>\n",
       "      <td>Francia</td>\n",
       "      <td>Francia</td>\n",
       "      <td>Norte</td>\n",
       "    </tr>\n",
       "    <tr>\n",
       "      <th>47847</th>\n",
       "      <td>81353</td>\n",
       "      <td>592076</td>\n",
       "      <td>A01374497</td>\n",
       "      <td>Antonio</td>\n",
       "      <td>Morales</td>\n",
       "      <td>López</td>\n",
       "      <td>Santa Fe</td>\n",
       "      <td>LIN</td>\n",
       "      <td>88.795</td>\n",
       "      <td>44.0</td>\n",
       "      <td>...</td>\n",
       "      <td>Querétaro</td>\n",
       "      <td>Verano 2022 Profesional</td>\n",
       "      <td>Resultado de Asignación</td>\n",
       "      <td>30/03/22 17:25</td>\n",
       "      <td>Asignado</td>\n",
       "      <td>Study Abroad</td>\n",
       "      <td>Si</td>\n",
       "      <td>Francia</td>\n",
       "      <td>Francia</td>\n",
       "      <td>Ciudad de Mexico</td>\n",
       "    </tr>\n",
       "  </tbody>\n",
       "</table>\n",
       "<p>47848 rows × 29 columns</p>\n",
       "</div>"
      ],
      "text/plain": [
       "       Unnamed: 0  Instancia  Matrícula             Nombre  Ap Paterno  \\\n",
       "0               0       8453  A01139867     Andrés Gerardo       Garza   \n",
       "1               1       8289  A01018302              Pablo     Zebadúa   \n",
       "2               2       8510  A01205500              Laura     Treviño   \n",
       "3               3       8007  A01139036    Arturo Mauricio        Lara   \n",
       "4               4      14315  A00757284       Ana Gabriela       Amaro   \n",
       "...           ...        ...        ...                ...         ...   \n",
       "47843       81342     589572  A01365530           Isabella   Hernández   \n",
       "47844       81346     577669  A01561940  Ashley Alessandra  Valenzuela   \n",
       "47845       81349     579143  A01283470            Mariana      Blando   \n",
       "47846       81352     589315  A01154926       Luis Antonio      Urenda   \n",
       "47847       81353     592076  A01374497            Antonio     Morales   \n",
       "\n",
       "       Ap Materno     Campus Programa  Promedio  Núm. MatAprobadas  ...  \\\n",
       "0         Canales  Monterrey      INT    90.491               57.0  ...   \n",
       "1            Vega   Santa Fe      ITC    85.684                0.0  ...   \n",
       "2       Hernández  Querétaro      ISC    89.810                0.0  ...   \n",
       "3        Martínez  Monterrey      CPF    85.465                0.0  ...   \n",
       "4       Rodríguez  Chihuahua      LMC    84.523                0.0  ...   \n",
       "...           ...        ...      ...       ...                ...  ...   \n",
       "47843  Valdespino   Santa Fe      LEM    92.326               46.0  ...   \n",
       "47844     Camacho  Chihuahua      IMA    92.024               41.0  ...   \n",
       "47845       Ortiz  Monterrey      LDI    87.648               38.0  ...   \n",
       "47846    Zacarías  Monterrey      IFI    86.714               48.0  ...   \n",
       "47847       López   Santa Fe      LIN    88.795               44.0  ...   \n",
       "\n",
       "       CampusAdministrador         PeriodoAcadémico  \\\n",
       "0                Querétaro        Enero - Mayo 2015   \n",
       "1                Monterrey        Enero - Mayo 2015   \n",
       "2                Monterrey        Enero - Mayo 2015   \n",
       "3              Guadalajara        Enero - Mayo 2015   \n",
       "4         Ciudad de México        Enero - Mayo 2015   \n",
       "...                    ...                      ...   \n",
       "47843            Monterrey  Verano 2022 Profesional   \n",
       "47844            Monterrey  Agosto - Diciembre 2022   \n",
       "47845            Monterrey  Agosto - Diciembre 2022   \n",
       "47846            Querétaro  Verano 2022 Profesional   \n",
       "47847            Querétaro  Verano 2022 Profesional   \n",
       "\n",
       "                                        Actividad Actual                Fecha  \\\n",
       "0                                Resultado de Asignación  20/AGO/2014 02:22PM   \n",
       "1                                Resultado de Asignación  29/AGO/2014 04:34PM   \n",
       "2                                Resultado de Asignación  29/AGO/2014 04:35PM   \n",
       "3                                Resultado de Asignación  29/AGO/2014 04:43PM   \n",
       "4                                Resultado de Asignación  29/AGO/2014 04:43PM   \n",
       "...                                                  ...                  ...   \n",
       "47843                            Resultado de Asignación       30/03/22 17:01   \n",
       "47844                    Registro de carta de aceptación       30/03/22 17:10   \n",
       "47845  Documentos de admisión (checklist) y Registrar...       30/03/22 17:19   \n",
       "47846  Documentos de admisión (checklist) y Registrar...       30/03/22 17:25   \n",
       "47847                            Resultado de Asignación       30/03/22 17:25   \n",
       "\n",
       "      Estatuslimpio  Intercambio Internacional PrimeraOpcion PaisSeleccionado  \\\n",
       "0          Asignado  Intercambio Internacional            Si   Estados Unidos   \n",
       "1          Asignado  Intercambio Internacional            No             Otro   \n",
       "2          Asignado  Intercambio Internacional            Si  República Checa   \n",
       "3          Asignado  Intercambio Internacional            No         Alemania   \n",
       "4          Asignado  Intercambio Internacional            No           España   \n",
       "...             ...                        ...           ...              ...   \n",
       "47843      Asignado               Study Abroad            Si           Italia   \n",
       "47844      Asignado  Intercambio Internacional            Si             Otro   \n",
       "47845      Asignado               Study Abroad            Si           Italia   \n",
       "47846      Asignado               Study Abroad            Si          Francia   \n",
       "47847      Asignado               Study Abroad            Si          Francia   \n",
       "\n",
       "          PaisAsignado            Región  \n",
       "0       Estados Unidos             Norte  \n",
       "1                 Otro  Ciudad de Mexico  \n",
       "2      República Checa        Centro Sur  \n",
       "3                 Otro             Norte  \n",
       "4                 Otro         Occidente  \n",
       "...                ...               ...  \n",
       "47843           Italia  Ciudad de Mexico  \n",
       "47844             Otro         Occidente  \n",
       "47845           Italia             Norte  \n",
       "47846          Francia             Norte  \n",
       "47847          Francia  Ciudad de Mexico  \n",
       "\n",
       "[47848 rows x 29 columns]"
      ]
     },
     "execution_count": 3,
     "metadata": {},
     "output_type": "execute_result"
    }
   ],
   "source": [
    "df = pd.read_csv('/Users/neira/Desktop/Concentración/Chuy/Intercambio Webapp/programasinternacionaleslimpio.csv')\n",
    "df"
   ]
  },
  {
   "cell_type": "code",
   "execution_count": 4,
   "metadata": {},
   "outputs": [],
   "source": [
    "df_temp1 = df.groupby(['Región', 'Intercambio Internacional'])['Matrícula'].count().reset_index()\n",
    "df_temp1.columns = ['source', 'target', 'value']"
   ]
  },
  {
   "cell_type": "code",
   "execution_count": 5,
   "metadata": {},
   "outputs": [
    {
     "data": {
      "text/html": [
       "<div>\n",
       "<style scoped>\n",
       "    .dataframe tbody tr th:only-of-type {\n",
       "        vertical-align: middle;\n",
       "    }\n",
       "\n",
       "    .dataframe tbody tr th {\n",
       "        vertical-align: top;\n",
       "    }\n",
       "\n",
       "    .dataframe thead th {\n",
       "        text-align: right;\n",
       "    }\n",
       "</style>\n",
       "<table border=\"1\" class=\"dataframe\">\n",
       "  <thead>\n",
       "    <tr style=\"text-align: right;\">\n",
       "      <th></th>\n",
       "      <th>source</th>\n",
       "      <th>target</th>\n",
       "      <th>value</th>\n",
       "    </tr>\n",
       "  </thead>\n",
       "  <tbody>\n",
       "    <tr>\n",
       "      <th>0</th>\n",
       "      <td>Centro Sur</td>\n",
       "      <td>Intercambio Internacional</td>\n",
       "      <td>2188</td>\n",
       "    </tr>\n",
       "    <tr>\n",
       "      <th>1</th>\n",
       "      <td>Centro Sur</td>\n",
       "      <td>Study Abroad</td>\n",
       "      <td>8013</td>\n",
       "    </tr>\n",
       "    <tr>\n",
       "      <th>2</th>\n",
       "      <td>Ciudad de Mexico</td>\n",
       "      <td>Intercambio Internacional</td>\n",
       "      <td>1592</td>\n",
       "    </tr>\n",
       "    <tr>\n",
       "      <th>3</th>\n",
       "      <td>Ciudad de Mexico</td>\n",
       "      <td>Study Abroad</td>\n",
       "      <td>9511</td>\n",
       "    </tr>\n",
       "    <tr>\n",
       "      <th>4</th>\n",
       "      <td>Desarrollo Regional</td>\n",
       "      <td>Intercambio Internacional</td>\n",
       "      <td>86</td>\n",
       "    </tr>\n",
       "    <tr>\n",
       "      <th>5</th>\n",
       "      <td>Desarrollo Regional</td>\n",
       "      <td>Study Abroad</td>\n",
       "      <td>762</td>\n",
       "    </tr>\n",
       "    <tr>\n",
       "      <th>6</th>\n",
       "      <td>Norte</td>\n",
       "      <td>Intercambio Internacional</td>\n",
       "      <td>3136</td>\n",
       "    </tr>\n",
       "    <tr>\n",
       "      <th>7</th>\n",
       "      <td>Norte</td>\n",
       "      <td>Study Abroad</td>\n",
       "      <td>13376</td>\n",
       "    </tr>\n",
       "    <tr>\n",
       "      <th>8</th>\n",
       "      <td>Occidente</td>\n",
       "      <td>Intercambio Internacional</td>\n",
       "      <td>1667</td>\n",
       "    </tr>\n",
       "    <tr>\n",
       "      <th>9</th>\n",
       "      <td>Occidente</td>\n",
       "      <td>Study Abroad</td>\n",
       "      <td>7517</td>\n",
       "    </tr>\n",
       "  </tbody>\n",
       "</table>\n",
       "</div>"
      ],
      "text/plain": [
       "                source                     target  value\n",
       "0           Centro Sur  Intercambio Internacional   2188\n",
       "1           Centro Sur               Study Abroad   8013\n",
       "2     Ciudad de Mexico  Intercambio Internacional   1592\n",
       "3     Ciudad de Mexico               Study Abroad   9511\n",
       "4  Desarrollo Regional  Intercambio Internacional     86\n",
       "5  Desarrollo Regional               Study Abroad    762\n",
       "6                Norte  Intercambio Internacional   3136\n",
       "7                Norte               Study Abroad  13376\n",
       "8            Occidente  Intercambio Internacional   1667\n",
       "9            Occidente               Study Abroad   7517"
      ]
     },
     "execution_count": 5,
     "metadata": {},
     "output_type": "execute_result"
    }
   ],
   "source": [
    "df_temp1"
   ]
  },
  {
   "cell_type": "code",
   "execution_count": 6,
   "metadata": {},
   "outputs": [],
   "source": [
    "df_temp2 = df.groupby(['Intercambio Internacional', 'PrimeraOpcion'])['Matrícula'].count().reset_index()\n",
    "df_temp2.columns = ['source', 'target', 'value']"
   ]
  },
  {
   "cell_type": "code",
   "execution_count": 7,
   "metadata": {},
   "outputs": [
    {
     "data": {
      "text/html": [
       "<div>\n",
       "<style scoped>\n",
       "    .dataframe tbody tr th:only-of-type {\n",
       "        vertical-align: middle;\n",
       "    }\n",
       "\n",
       "    .dataframe tbody tr th {\n",
       "        vertical-align: top;\n",
       "    }\n",
       "\n",
       "    .dataframe thead th {\n",
       "        text-align: right;\n",
       "    }\n",
       "</style>\n",
       "<table border=\"1\" class=\"dataframe\">\n",
       "  <thead>\n",
       "    <tr style=\"text-align: right;\">\n",
       "      <th></th>\n",
       "      <th>source</th>\n",
       "      <th>target</th>\n",
       "      <th>value</th>\n",
       "    </tr>\n",
       "  </thead>\n",
       "  <tbody>\n",
       "    <tr>\n",
       "      <th>0</th>\n",
       "      <td>Intercambio Internacional</td>\n",
       "      <td>No</td>\n",
       "      <td>3473</td>\n",
       "    </tr>\n",
       "    <tr>\n",
       "      <th>1</th>\n",
       "      <td>Intercambio Internacional</td>\n",
       "      <td>Si</td>\n",
       "      <td>5196</td>\n",
       "    </tr>\n",
       "    <tr>\n",
       "      <th>2</th>\n",
       "      <td>Study Abroad</td>\n",
       "      <td>No</td>\n",
       "      <td>9514</td>\n",
       "    </tr>\n",
       "    <tr>\n",
       "      <th>3</th>\n",
       "      <td>Study Abroad</td>\n",
       "      <td>Si</td>\n",
       "      <td>29665</td>\n",
       "    </tr>\n",
       "  </tbody>\n",
       "</table>\n",
       "</div>"
      ],
      "text/plain": [
       "                      source target  value\n",
       "0  Intercambio Internacional     No   3473\n",
       "1  Intercambio Internacional     Si   5196\n",
       "2               Study Abroad     No   9514\n",
       "3               Study Abroad     Si  29665"
      ]
     },
     "execution_count": 7,
     "metadata": {},
     "output_type": "execute_result"
    }
   ],
   "source": [
    "df_temp2"
   ]
  },
  {
   "cell_type": "code",
   "execution_count": 8,
   "metadata": {},
   "outputs": [],
   "source": [
    "df_temp3 = df.groupby(['PrimeraOpcion', 'PaisAsignado'])['Matrícula'].count().reset_index()\n",
    "df_temp3.columns = ['source', 'target', 'value']"
   ]
  },
  {
   "cell_type": "code",
   "execution_count": 9,
   "metadata": {},
   "outputs": [
    {
     "data": {
      "text/html": [
       "<div>\n",
       "<style scoped>\n",
       "    .dataframe tbody tr th:only-of-type {\n",
       "        vertical-align: middle;\n",
       "    }\n",
       "\n",
       "    .dataframe tbody tr th {\n",
       "        vertical-align: top;\n",
       "    }\n",
       "\n",
       "    .dataframe thead th {\n",
       "        text-align: right;\n",
       "    }\n",
       "</style>\n",
       "<table border=\"1\" class=\"dataframe\">\n",
       "  <thead>\n",
       "    <tr style=\"text-align: right;\">\n",
       "      <th></th>\n",
       "      <th>source</th>\n",
       "      <th>target</th>\n",
       "      <th>value</th>\n",
       "    </tr>\n",
       "  </thead>\n",
       "  <tbody>\n",
       "    <tr>\n",
       "      <th>0</th>\n",
       "      <td>No</td>\n",
       "      <td>Alemania</td>\n",
       "      <td>930</td>\n",
       "    </tr>\n",
       "    <tr>\n",
       "      <th>1</th>\n",
       "      <td>No</td>\n",
       "      <td>Austria</td>\n",
       "      <td>544</td>\n",
       "    </tr>\n",
       "    <tr>\n",
       "      <th>2</th>\n",
       "      <td>No</td>\n",
       "      <td>Canada</td>\n",
       "      <td>741</td>\n",
       "    </tr>\n",
       "    <tr>\n",
       "      <th>3</th>\n",
       "      <td>No</td>\n",
       "      <td>Chile</td>\n",
       "      <td>382</td>\n",
       "    </tr>\n",
       "    <tr>\n",
       "      <th>4</th>\n",
       "      <td>No</td>\n",
       "      <td>China</td>\n",
       "      <td>408</td>\n",
       "    </tr>\n",
       "    <tr>\n",
       "      <th>5</th>\n",
       "      <td>No</td>\n",
       "      <td>España</td>\n",
       "      <td>2947</td>\n",
       "    </tr>\n",
       "    <tr>\n",
       "      <th>6</th>\n",
       "      <td>No</td>\n",
       "      <td>Estados Unidos</td>\n",
       "      <td>926</td>\n",
       "    </tr>\n",
       "    <tr>\n",
       "      <th>7</th>\n",
       "      <td>No</td>\n",
       "      <td>Francia</td>\n",
       "      <td>1341</td>\n",
       "    </tr>\n",
       "    <tr>\n",
       "      <th>8</th>\n",
       "      <td>No</td>\n",
       "      <td>Inglaterra</td>\n",
       "      <td>270</td>\n",
       "    </tr>\n",
       "    <tr>\n",
       "      <th>9</th>\n",
       "      <td>No</td>\n",
       "      <td>Italia</td>\n",
       "      <td>506</td>\n",
       "    </tr>\n",
       "    <tr>\n",
       "      <th>10</th>\n",
       "      <td>No</td>\n",
       "      <td>México</td>\n",
       "      <td>221</td>\n",
       "    </tr>\n",
       "    <tr>\n",
       "      <th>11</th>\n",
       "      <td>No</td>\n",
       "      <td>Otro</td>\n",
       "      <td>3319</td>\n",
       "    </tr>\n",
       "    <tr>\n",
       "      <th>12</th>\n",
       "      <td>No</td>\n",
       "      <td>República Checa</td>\n",
       "      <td>452</td>\n",
       "    </tr>\n",
       "    <tr>\n",
       "      <th>13</th>\n",
       "      <td>Si</td>\n",
       "      <td>Alemania</td>\n",
       "      <td>2780</td>\n",
       "    </tr>\n",
       "    <tr>\n",
       "      <th>14</th>\n",
       "      <td>Si</td>\n",
       "      <td>Austria</td>\n",
       "      <td>1027</td>\n",
       "    </tr>\n",
       "    <tr>\n",
       "      <th>15</th>\n",
       "      <td>Si</td>\n",
       "      <td>Canada</td>\n",
       "      <td>3472</td>\n",
       "    </tr>\n",
       "    <tr>\n",
       "      <th>16</th>\n",
       "      <td>Si</td>\n",
       "      <td>Chile</td>\n",
       "      <td>608</td>\n",
       "    </tr>\n",
       "    <tr>\n",
       "      <th>17</th>\n",
       "      <td>Si</td>\n",
       "      <td>China</td>\n",
       "      <td>840</td>\n",
       "    </tr>\n",
       "    <tr>\n",
       "      <th>18</th>\n",
       "      <td>Si</td>\n",
       "      <td>España</td>\n",
       "      <td>7665</td>\n",
       "    </tr>\n",
       "    <tr>\n",
       "      <th>19</th>\n",
       "      <td>Si</td>\n",
       "      <td>Estados Unidos</td>\n",
       "      <td>1969</td>\n",
       "    </tr>\n",
       "    <tr>\n",
       "      <th>20</th>\n",
       "      <td>Si</td>\n",
       "      <td>Francia</td>\n",
       "      <td>3343</td>\n",
       "    </tr>\n",
       "    <tr>\n",
       "      <th>21</th>\n",
       "      <td>Si</td>\n",
       "      <td>Inglaterra</td>\n",
       "      <td>1332</td>\n",
       "    </tr>\n",
       "    <tr>\n",
       "      <th>22</th>\n",
       "      <td>Si</td>\n",
       "      <td>Italia</td>\n",
       "      <td>1717</td>\n",
       "    </tr>\n",
       "    <tr>\n",
       "      <th>23</th>\n",
       "      <td>Si</td>\n",
       "      <td>México</td>\n",
       "      <td>2893</td>\n",
       "    </tr>\n",
       "    <tr>\n",
       "      <th>24</th>\n",
       "      <td>Si</td>\n",
       "      <td>Otro</td>\n",
       "      <td>5235</td>\n",
       "    </tr>\n",
       "    <tr>\n",
       "      <th>25</th>\n",
       "      <td>Si</td>\n",
       "      <td>República Checa</td>\n",
       "      <td>1980</td>\n",
       "    </tr>\n",
       "  </tbody>\n",
       "</table>\n",
       "</div>"
      ],
      "text/plain": [
       "   source           target  value\n",
       "0      No         Alemania    930\n",
       "1      No          Austria    544\n",
       "2      No           Canada    741\n",
       "3      No            Chile    382\n",
       "4      No            China    408\n",
       "5      No           España   2947\n",
       "6      No   Estados Unidos    926\n",
       "7      No          Francia   1341\n",
       "8      No       Inglaterra    270\n",
       "9      No           Italia    506\n",
       "10     No           México    221\n",
       "11     No             Otro   3319\n",
       "12     No  República Checa    452\n",
       "13     Si         Alemania   2780\n",
       "14     Si          Austria   1027\n",
       "15     Si           Canada   3472\n",
       "16     Si            Chile    608\n",
       "17     Si            China    840\n",
       "18     Si           España   7665\n",
       "19     Si   Estados Unidos   1969\n",
       "20     Si          Francia   3343\n",
       "21     Si       Inglaterra   1332\n",
       "22     Si           Italia   1717\n",
       "23     Si           México   2893\n",
       "24     Si             Otro   5235\n",
       "25     Si  República Checa   1980"
      ]
     },
     "execution_count": 9,
     "metadata": {},
     "output_type": "execute_result"
    }
   ],
   "source": [
    "df_temp3"
   ]
  },
  {
   "cell_type": "code",
   "execution_count": 10,
   "metadata": {},
   "outputs": [],
   "source": [
    "links = pd.concat([df_temp1, df_temp2, df_temp3], axis = 0)"
   ]
  },
  {
   "cell_type": "code",
   "execution_count": 11,
   "metadata": {},
   "outputs": [
    {
     "data": {
      "text/html": [
       "<div>\n",
       "<style scoped>\n",
       "    .dataframe tbody tr th:only-of-type {\n",
       "        vertical-align: middle;\n",
       "    }\n",
       "\n",
       "    .dataframe tbody tr th {\n",
       "        vertical-align: top;\n",
       "    }\n",
       "\n",
       "    .dataframe thead th {\n",
       "        text-align: right;\n",
       "    }\n",
       "</style>\n",
       "<table border=\"1\" class=\"dataframe\">\n",
       "  <thead>\n",
       "    <tr style=\"text-align: right;\">\n",
       "      <th></th>\n",
       "      <th>source</th>\n",
       "      <th>target</th>\n",
       "      <th>value</th>\n",
       "    </tr>\n",
       "  </thead>\n",
       "  <tbody>\n",
       "    <tr>\n",
       "      <th>0</th>\n",
       "      <td>Centro Sur</td>\n",
       "      <td>Intercambio Internacional</td>\n",
       "      <td>2188</td>\n",
       "    </tr>\n",
       "    <tr>\n",
       "      <th>1</th>\n",
       "      <td>Centro Sur</td>\n",
       "      <td>Study Abroad</td>\n",
       "      <td>8013</td>\n",
       "    </tr>\n",
       "    <tr>\n",
       "      <th>2</th>\n",
       "      <td>Ciudad de Mexico</td>\n",
       "      <td>Intercambio Internacional</td>\n",
       "      <td>1592</td>\n",
       "    </tr>\n",
       "    <tr>\n",
       "      <th>3</th>\n",
       "      <td>Ciudad de Mexico</td>\n",
       "      <td>Study Abroad</td>\n",
       "      <td>9511</td>\n",
       "    </tr>\n",
       "    <tr>\n",
       "      <th>4</th>\n",
       "      <td>Desarrollo Regional</td>\n",
       "      <td>Intercambio Internacional</td>\n",
       "      <td>86</td>\n",
       "    </tr>\n",
       "    <tr>\n",
       "      <th>5</th>\n",
       "      <td>Desarrollo Regional</td>\n",
       "      <td>Study Abroad</td>\n",
       "      <td>762</td>\n",
       "    </tr>\n",
       "    <tr>\n",
       "      <th>6</th>\n",
       "      <td>Norte</td>\n",
       "      <td>Intercambio Internacional</td>\n",
       "      <td>3136</td>\n",
       "    </tr>\n",
       "    <tr>\n",
       "      <th>7</th>\n",
       "      <td>Norte</td>\n",
       "      <td>Study Abroad</td>\n",
       "      <td>13376</td>\n",
       "    </tr>\n",
       "    <tr>\n",
       "      <th>8</th>\n",
       "      <td>Occidente</td>\n",
       "      <td>Intercambio Internacional</td>\n",
       "      <td>1667</td>\n",
       "    </tr>\n",
       "    <tr>\n",
       "      <th>9</th>\n",
       "      <td>Occidente</td>\n",
       "      <td>Study Abroad</td>\n",
       "      <td>7517</td>\n",
       "    </tr>\n",
       "    <tr>\n",
       "      <th>0</th>\n",
       "      <td>Intercambio Internacional</td>\n",
       "      <td>No</td>\n",
       "      <td>3473</td>\n",
       "    </tr>\n",
       "    <tr>\n",
       "      <th>1</th>\n",
       "      <td>Intercambio Internacional</td>\n",
       "      <td>Si</td>\n",
       "      <td>5196</td>\n",
       "    </tr>\n",
       "    <tr>\n",
       "      <th>2</th>\n",
       "      <td>Study Abroad</td>\n",
       "      <td>No</td>\n",
       "      <td>9514</td>\n",
       "    </tr>\n",
       "    <tr>\n",
       "      <th>3</th>\n",
       "      <td>Study Abroad</td>\n",
       "      <td>Si</td>\n",
       "      <td>29665</td>\n",
       "    </tr>\n",
       "    <tr>\n",
       "      <th>0</th>\n",
       "      <td>No</td>\n",
       "      <td>Alemania</td>\n",
       "      <td>930</td>\n",
       "    </tr>\n",
       "    <tr>\n",
       "      <th>1</th>\n",
       "      <td>No</td>\n",
       "      <td>Austria</td>\n",
       "      <td>544</td>\n",
       "    </tr>\n",
       "    <tr>\n",
       "      <th>2</th>\n",
       "      <td>No</td>\n",
       "      <td>Canada</td>\n",
       "      <td>741</td>\n",
       "    </tr>\n",
       "    <tr>\n",
       "      <th>3</th>\n",
       "      <td>No</td>\n",
       "      <td>Chile</td>\n",
       "      <td>382</td>\n",
       "    </tr>\n",
       "    <tr>\n",
       "      <th>4</th>\n",
       "      <td>No</td>\n",
       "      <td>China</td>\n",
       "      <td>408</td>\n",
       "    </tr>\n",
       "    <tr>\n",
       "      <th>5</th>\n",
       "      <td>No</td>\n",
       "      <td>España</td>\n",
       "      <td>2947</td>\n",
       "    </tr>\n",
       "    <tr>\n",
       "      <th>6</th>\n",
       "      <td>No</td>\n",
       "      <td>Estados Unidos</td>\n",
       "      <td>926</td>\n",
       "    </tr>\n",
       "    <tr>\n",
       "      <th>7</th>\n",
       "      <td>No</td>\n",
       "      <td>Francia</td>\n",
       "      <td>1341</td>\n",
       "    </tr>\n",
       "    <tr>\n",
       "      <th>8</th>\n",
       "      <td>No</td>\n",
       "      <td>Inglaterra</td>\n",
       "      <td>270</td>\n",
       "    </tr>\n",
       "    <tr>\n",
       "      <th>9</th>\n",
       "      <td>No</td>\n",
       "      <td>Italia</td>\n",
       "      <td>506</td>\n",
       "    </tr>\n",
       "    <tr>\n",
       "      <th>10</th>\n",
       "      <td>No</td>\n",
       "      <td>México</td>\n",
       "      <td>221</td>\n",
       "    </tr>\n",
       "    <tr>\n",
       "      <th>11</th>\n",
       "      <td>No</td>\n",
       "      <td>Otro</td>\n",
       "      <td>3319</td>\n",
       "    </tr>\n",
       "    <tr>\n",
       "      <th>12</th>\n",
       "      <td>No</td>\n",
       "      <td>República Checa</td>\n",
       "      <td>452</td>\n",
       "    </tr>\n",
       "    <tr>\n",
       "      <th>13</th>\n",
       "      <td>Si</td>\n",
       "      <td>Alemania</td>\n",
       "      <td>2780</td>\n",
       "    </tr>\n",
       "    <tr>\n",
       "      <th>14</th>\n",
       "      <td>Si</td>\n",
       "      <td>Austria</td>\n",
       "      <td>1027</td>\n",
       "    </tr>\n",
       "    <tr>\n",
       "      <th>15</th>\n",
       "      <td>Si</td>\n",
       "      <td>Canada</td>\n",
       "      <td>3472</td>\n",
       "    </tr>\n",
       "    <tr>\n",
       "      <th>16</th>\n",
       "      <td>Si</td>\n",
       "      <td>Chile</td>\n",
       "      <td>608</td>\n",
       "    </tr>\n",
       "    <tr>\n",
       "      <th>17</th>\n",
       "      <td>Si</td>\n",
       "      <td>China</td>\n",
       "      <td>840</td>\n",
       "    </tr>\n",
       "    <tr>\n",
       "      <th>18</th>\n",
       "      <td>Si</td>\n",
       "      <td>España</td>\n",
       "      <td>7665</td>\n",
       "    </tr>\n",
       "    <tr>\n",
       "      <th>19</th>\n",
       "      <td>Si</td>\n",
       "      <td>Estados Unidos</td>\n",
       "      <td>1969</td>\n",
       "    </tr>\n",
       "    <tr>\n",
       "      <th>20</th>\n",
       "      <td>Si</td>\n",
       "      <td>Francia</td>\n",
       "      <td>3343</td>\n",
       "    </tr>\n",
       "    <tr>\n",
       "      <th>21</th>\n",
       "      <td>Si</td>\n",
       "      <td>Inglaterra</td>\n",
       "      <td>1332</td>\n",
       "    </tr>\n",
       "    <tr>\n",
       "      <th>22</th>\n",
       "      <td>Si</td>\n",
       "      <td>Italia</td>\n",
       "      <td>1717</td>\n",
       "    </tr>\n",
       "    <tr>\n",
       "      <th>23</th>\n",
       "      <td>Si</td>\n",
       "      <td>México</td>\n",
       "      <td>2893</td>\n",
       "    </tr>\n",
       "    <tr>\n",
       "      <th>24</th>\n",
       "      <td>Si</td>\n",
       "      <td>Otro</td>\n",
       "      <td>5235</td>\n",
       "    </tr>\n",
       "    <tr>\n",
       "      <th>25</th>\n",
       "      <td>Si</td>\n",
       "      <td>República Checa</td>\n",
       "      <td>1980</td>\n",
       "    </tr>\n",
       "  </tbody>\n",
       "</table>\n",
       "</div>"
      ],
      "text/plain": [
       "                       source                     target  value\n",
       "0                  Centro Sur  Intercambio Internacional   2188\n",
       "1                  Centro Sur               Study Abroad   8013\n",
       "2            Ciudad de Mexico  Intercambio Internacional   1592\n",
       "3            Ciudad de Mexico               Study Abroad   9511\n",
       "4         Desarrollo Regional  Intercambio Internacional     86\n",
       "5         Desarrollo Regional               Study Abroad    762\n",
       "6                       Norte  Intercambio Internacional   3136\n",
       "7                       Norte               Study Abroad  13376\n",
       "8                   Occidente  Intercambio Internacional   1667\n",
       "9                   Occidente               Study Abroad   7517\n",
       "0   Intercambio Internacional                         No   3473\n",
       "1   Intercambio Internacional                         Si   5196\n",
       "2                Study Abroad                         No   9514\n",
       "3                Study Abroad                         Si  29665\n",
       "0                          No                   Alemania    930\n",
       "1                          No                    Austria    544\n",
       "2                          No                     Canada    741\n",
       "3                          No                      Chile    382\n",
       "4                          No                      China    408\n",
       "5                          No                     España   2947\n",
       "6                          No             Estados Unidos    926\n",
       "7                          No                    Francia   1341\n",
       "8                          No                 Inglaterra    270\n",
       "9                          No                     Italia    506\n",
       "10                         No                     México    221\n",
       "11                         No                       Otro   3319\n",
       "12                         No            República Checa    452\n",
       "13                         Si                   Alemania   2780\n",
       "14                         Si                    Austria   1027\n",
       "15                         Si                     Canada   3472\n",
       "16                         Si                      Chile    608\n",
       "17                         Si                      China    840\n",
       "18                         Si                     España   7665\n",
       "19                         Si             Estados Unidos   1969\n",
       "20                         Si                    Francia   3343\n",
       "21                         Si                 Inglaterra   1332\n",
       "22                         Si                     Italia   1717\n",
       "23                         Si                     México   2893\n",
       "24                         Si                       Otro   5235\n",
       "25                         Si            República Checa   1980"
      ]
     },
     "execution_count": 11,
     "metadata": {},
     "output_type": "execute_result"
    }
   ],
   "source": [
    "links"
   ]
  },
  {
   "cell_type": "code",
   "execution_count": 12,
   "metadata": {},
   "outputs": [],
   "source": [
    "unique_source_target = list(pd.unique(links[['source', 'target']].values.ravel('K')))"
   ]
  },
  {
   "cell_type": "code",
   "execution_count": 13,
   "metadata": {},
   "outputs": [
    {
     "data": {
      "text/plain": [
       "['Centro Sur',\n",
       " 'Ciudad de Mexico',\n",
       " 'Desarrollo Regional',\n",
       " 'Norte',\n",
       " 'Occidente',\n",
       " 'Intercambio Internacional',\n",
       " 'Study Abroad',\n",
       " 'No',\n",
       " 'Si',\n",
       " 'Alemania',\n",
       " 'Austria',\n",
       " 'Canada',\n",
       " 'Chile',\n",
       " 'China',\n",
       " 'España',\n",
       " 'Estados Unidos',\n",
       " 'Francia',\n",
       " 'Inglaterra',\n",
       " 'Italia',\n",
       " 'México',\n",
       " 'Otro',\n",
       " 'República Checa']"
      ]
     },
     "execution_count": 13,
     "metadata": {},
     "output_type": "execute_result"
    }
   ],
   "source": [
    "unique_source_target"
   ]
  },
  {
   "cell_type": "code",
   "execution_count": 14,
   "metadata": {},
   "outputs": [],
   "source": [
    "mapping_dict = {k : v for v, k in enumerate(unique_source_target)}"
   ]
  },
  {
   "cell_type": "code",
   "execution_count": 15,
   "metadata": {},
   "outputs": [
    {
     "data": {
      "text/plain": [
       "{'Centro Sur': 0,\n",
       " 'Ciudad de Mexico': 1,\n",
       " 'Desarrollo Regional': 2,\n",
       " 'Norte': 3,\n",
       " 'Occidente': 4,\n",
       " 'Intercambio Internacional': 5,\n",
       " 'Study Abroad': 6,\n",
       " 'No': 7,\n",
       " 'Si': 8,\n",
       " 'Alemania': 9,\n",
       " 'Austria': 10,\n",
       " 'Canada': 11,\n",
       " 'Chile': 12,\n",
       " 'China': 13,\n",
       " 'España': 14,\n",
       " 'Estados Unidos': 15,\n",
       " 'Francia': 16,\n",
       " 'Inglaterra': 17,\n",
       " 'Italia': 18,\n",
       " 'México': 19,\n",
       " 'Otro': 20,\n",
       " 'República Checa': 21}"
      ]
     },
     "execution_count": 15,
     "metadata": {},
     "output_type": "execute_result"
    }
   ],
   "source": [
    "mapping_dict"
   ]
  },
  {
   "cell_type": "code",
   "execution_count": 16,
   "metadata": {},
   "outputs": [],
   "source": [
    "links['source'] = links['source'].map(mapping_dict)\n",
    "links['target'] = links['target'].map(mapping_dict)"
   ]
  },
  {
   "cell_type": "code",
   "execution_count": 17,
   "metadata": {},
   "outputs": [
    {
     "data": {
      "text/html": [
       "<div>\n",
       "<style scoped>\n",
       "    .dataframe tbody tr th:only-of-type {\n",
       "        vertical-align: middle;\n",
       "    }\n",
       "\n",
       "    .dataframe tbody tr th {\n",
       "        vertical-align: top;\n",
       "    }\n",
       "\n",
       "    .dataframe thead th {\n",
       "        text-align: right;\n",
       "    }\n",
       "</style>\n",
       "<table border=\"1\" class=\"dataframe\">\n",
       "  <thead>\n",
       "    <tr style=\"text-align: right;\">\n",
       "      <th></th>\n",
       "      <th>source</th>\n",
       "      <th>target</th>\n",
       "      <th>value</th>\n",
       "    </tr>\n",
       "  </thead>\n",
       "  <tbody>\n",
       "    <tr>\n",
       "      <th>0</th>\n",
       "      <td>0</td>\n",
       "      <td>5</td>\n",
       "      <td>2188</td>\n",
       "    </tr>\n",
       "    <tr>\n",
       "      <th>1</th>\n",
       "      <td>0</td>\n",
       "      <td>6</td>\n",
       "      <td>8013</td>\n",
       "    </tr>\n",
       "    <tr>\n",
       "      <th>2</th>\n",
       "      <td>1</td>\n",
       "      <td>5</td>\n",
       "      <td>1592</td>\n",
       "    </tr>\n",
       "    <tr>\n",
       "      <th>3</th>\n",
       "      <td>1</td>\n",
       "      <td>6</td>\n",
       "      <td>9511</td>\n",
       "    </tr>\n",
       "    <tr>\n",
       "      <th>4</th>\n",
       "      <td>2</td>\n",
       "      <td>5</td>\n",
       "      <td>86</td>\n",
       "    </tr>\n",
       "    <tr>\n",
       "      <th>5</th>\n",
       "      <td>2</td>\n",
       "      <td>6</td>\n",
       "      <td>762</td>\n",
       "    </tr>\n",
       "    <tr>\n",
       "      <th>6</th>\n",
       "      <td>3</td>\n",
       "      <td>5</td>\n",
       "      <td>3136</td>\n",
       "    </tr>\n",
       "    <tr>\n",
       "      <th>7</th>\n",
       "      <td>3</td>\n",
       "      <td>6</td>\n",
       "      <td>13376</td>\n",
       "    </tr>\n",
       "    <tr>\n",
       "      <th>8</th>\n",
       "      <td>4</td>\n",
       "      <td>5</td>\n",
       "      <td>1667</td>\n",
       "    </tr>\n",
       "    <tr>\n",
       "      <th>9</th>\n",
       "      <td>4</td>\n",
       "      <td>6</td>\n",
       "      <td>7517</td>\n",
       "    </tr>\n",
       "    <tr>\n",
       "      <th>0</th>\n",
       "      <td>5</td>\n",
       "      <td>7</td>\n",
       "      <td>3473</td>\n",
       "    </tr>\n",
       "    <tr>\n",
       "      <th>1</th>\n",
       "      <td>5</td>\n",
       "      <td>8</td>\n",
       "      <td>5196</td>\n",
       "    </tr>\n",
       "    <tr>\n",
       "      <th>2</th>\n",
       "      <td>6</td>\n",
       "      <td>7</td>\n",
       "      <td>9514</td>\n",
       "    </tr>\n",
       "    <tr>\n",
       "      <th>3</th>\n",
       "      <td>6</td>\n",
       "      <td>8</td>\n",
       "      <td>29665</td>\n",
       "    </tr>\n",
       "    <tr>\n",
       "      <th>0</th>\n",
       "      <td>7</td>\n",
       "      <td>9</td>\n",
       "      <td>930</td>\n",
       "    </tr>\n",
       "    <tr>\n",
       "      <th>1</th>\n",
       "      <td>7</td>\n",
       "      <td>10</td>\n",
       "      <td>544</td>\n",
       "    </tr>\n",
       "    <tr>\n",
       "      <th>2</th>\n",
       "      <td>7</td>\n",
       "      <td>11</td>\n",
       "      <td>741</td>\n",
       "    </tr>\n",
       "    <tr>\n",
       "      <th>3</th>\n",
       "      <td>7</td>\n",
       "      <td>12</td>\n",
       "      <td>382</td>\n",
       "    </tr>\n",
       "    <tr>\n",
       "      <th>4</th>\n",
       "      <td>7</td>\n",
       "      <td>13</td>\n",
       "      <td>408</td>\n",
       "    </tr>\n",
       "    <tr>\n",
       "      <th>5</th>\n",
       "      <td>7</td>\n",
       "      <td>14</td>\n",
       "      <td>2947</td>\n",
       "    </tr>\n",
       "    <tr>\n",
       "      <th>6</th>\n",
       "      <td>7</td>\n",
       "      <td>15</td>\n",
       "      <td>926</td>\n",
       "    </tr>\n",
       "    <tr>\n",
       "      <th>7</th>\n",
       "      <td>7</td>\n",
       "      <td>16</td>\n",
       "      <td>1341</td>\n",
       "    </tr>\n",
       "    <tr>\n",
       "      <th>8</th>\n",
       "      <td>7</td>\n",
       "      <td>17</td>\n",
       "      <td>270</td>\n",
       "    </tr>\n",
       "    <tr>\n",
       "      <th>9</th>\n",
       "      <td>7</td>\n",
       "      <td>18</td>\n",
       "      <td>506</td>\n",
       "    </tr>\n",
       "    <tr>\n",
       "      <th>10</th>\n",
       "      <td>7</td>\n",
       "      <td>19</td>\n",
       "      <td>221</td>\n",
       "    </tr>\n",
       "    <tr>\n",
       "      <th>11</th>\n",
       "      <td>7</td>\n",
       "      <td>20</td>\n",
       "      <td>3319</td>\n",
       "    </tr>\n",
       "    <tr>\n",
       "      <th>12</th>\n",
       "      <td>7</td>\n",
       "      <td>21</td>\n",
       "      <td>452</td>\n",
       "    </tr>\n",
       "    <tr>\n",
       "      <th>13</th>\n",
       "      <td>8</td>\n",
       "      <td>9</td>\n",
       "      <td>2780</td>\n",
       "    </tr>\n",
       "    <tr>\n",
       "      <th>14</th>\n",
       "      <td>8</td>\n",
       "      <td>10</td>\n",
       "      <td>1027</td>\n",
       "    </tr>\n",
       "    <tr>\n",
       "      <th>15</th>\n",
       "      <td>8</td>\n",
       "      <td>11</td>\n",
       "      <td>3472</td>\n",
       "    </tr>\n",
       "    <tr>\n",
       "      <th>16</th>\n",
       "      <td>8</td>\n",
       "      <td>12</td>\n",
       "      <td>608</td>\n",
       "    </tr>\n",
       "    <tr>\n",
       "      <th>17</th>\n",
       "      <td>8</td>\n",
       "      <td>13</td>\n",
       "      <td>840</td>\n",
       "    </tr>\n",
       "    <tr>\n",
       "      <th>18</th>\n",
       "      <td>8</td>\n",
       "      <td>14</td>\n",
       "      <td>7665</td>\n",
       "    </tr>\n",
       "    <tr>\n",
       "      <th>19</th>\n",
       "      <td>8</td>\n",
       "      <td>15</td>\n",
       "      <td>1969</td>\n",
       "    </tr>\n",
       "    <tr>\n",
       "      <th>20</th>\n",
       "      <td>8</td>\n",
       "      <td>16</td>\n",
       "      <td>3343</td>\n",
       "    </tr>\n",
       "    <tr>\n",
       "      <th>21</th>\n",
       "      <td>8</td>\n",
       "      <td>17</td>\n",
       "      <td>1332</td>\n",
       "    </tr>\n",
       "    <tr>\n",
       "      <th>22</th>\n",
       "      <td>8</td>\n",
       "      <td>18</td>\n",
       "      <td>1717</td>\n",
       "    </tr>\n",
       "    <tr>\n",
       "      <th>23</th>\n",
       "      <td>8</td>\n",
       "      <td>19</td>\n",
       "      <td>2893</td>\n",
       "    </tr>\n",
       "    <tr>\n",
       "      <th>24</th>\n",
       "      <td>8</td>\n",
       "      <td>20</td>\n",
       "      <td>5235</td>\n",
       "    </tr>\n",
       "    <tr>\n",
       "      <th>25</th>\n",
       "      <td>8</td>\n",
       "      <td>21</td>\n",
       "      <td>1980</td>\n",
       "    </tr>\n",
       "  </tbody>\n",
       "</table>\n",
       "</div>"
      ],
      "text/plain": [
       "    source  target  value\n",
       "0        0       5   2188\n",
       "1        0       6   8013\n",
       "2        1       5   1592\n",
       "3        1       6   9511\n",
       "4        2       5     86\n",
       "5        2       6    762\n",
       "6        3       5   3136\n",
       "7        3       6  13376\n",
       "8        4       5   1667\n",
       "9        4       6   7517\n",
       "0        5       7   3473\n",
       "1        5       8   5196\n",
       "2        6       7   9514\n",
       "3        6       8  29665\n",
       "0        7       9    930\n",
       "1        7      10    544\n",
       "2        7      11    741\n",
       "3        7      12    382\n",
       "4        7      13    408\n",
       "5        7      14   2947\n",
       "6        7      15    926\n",
       "7        7      16   1341\n",
       "8        7      17    270\n",
       "9        7      18    506\n",
       "10       7      19    221\n",
       "11       7      20   3319\n",
       "12       7      21    452\n",
       "13       8       9   2780\n",
       "14       8      10   1027\n",
       "15       8      11   3472\n",
       "16       8      12    608\n",
       "17       8      13    840\n",
       "18       8      14   7665\n",
       "19       8      15   1969\n",
       "20       8      16   3343\n",
       "21       8      17   1332\n",
       "22       8      18   1717\n",
       "23       8      19   2893\n",
       "24       8      20   5235\n",
       "25       8      21   1980"
      ]
     },
     "execution_count": 17,
     "metadata": {},
     "output_type": "execute_result"
    }
   ],
   "source": [
    "links"
   ]
  },
  {
   "cell_type": "code",
   "execution_count": 18,
   "metadata": {},
   "outputs": [],
   "source": [
    "links_dict = links.to_dict(orient = 'list')"
   ]
  },
  {
   "cell_type": "code",
   "execution_count": 19,
   "metadata": {},
   "outputs": [
    {
     "data": {
      "text/plain": [
       "{'source': [0,\n",
       "  0,\n",
       "  1,\n",
       "  1,\n",
       "  2,\n",
       "  2,\n",
       "  3,\n",
       "  3,\n",
       "  4,\n",
       "  4,\n",
       "  5,\n",
       "  5,\n",
       "  6,\n",
       "  6,\n",
       "  7,\n",
       "  7,\n",
       "  7,\n",
       "  7,\n",
       "  7,\n",
       "  7,\n",
       "  7,\n",
       "  7,\n",
       "  7,\n",
       "  7,\n",
       "  7,\n",
       "  7,\n",
       "  7,\n",
       "  8,\n",
       "  8,\n",
       "  8,\n",
       "  8,\n",
       "  8,\n",
       "  8,\n",
       "  8,\n",
       "  8,\n",
       "  8,\n",
       "  8,\n",
       "  8,\n",
       "  8,\n",
       "  8],\n",
       " 'target': [5,\n",
       "  6,\n",
       "  5,\n",
       "  6,\n",
       "  5,\n",
       "  6,\n",
       "  5,\n",
       "  6,\n",
       "  5,\n",
       "  6,\n",
       "  7,\n",
       "  8,\n",
       "  7,\n",
       "  8,\n",
       "  9,\n",
       "  10,\n",
       "  11,\n",
       "  12,\n",
       "  13,\n",
       "  14,\n",
       "  15,\n",
       "  16,\n",
       "  17,\n",
       "  18,\n",
       "  19,\n",
       "  20,\n",
       "  21,\n",
       "  9,\n",
       "  10,\n",
       "  11,\n",
       "  12,\n",
       "  13,\n",
       "  14,\n",
       "  15,\n",
       "  16,\n",
       "  17,\n",
       "  18,\n",
       "  19,\n",
       "  20,\n",
       "  21],\n",
       " 'value': [2188,\n",
       "  8013,\n",
       "  1592,\n",
       "  9511,\n",
       "  86,\n",
       "  762,\n",
       "  3136,\n",
       "  13376,\n",
       "  1667,\n",
       "  7517,\n",
       "  3473,\n",
       "  5196,\n",
       "  9514,\n",
       "  29665,\n",
       "  930,\n",
       "  544,\n",
       "  741,\n",
       "  382,\n",
       "  408,\n",
       "  2947,\n",
       "  926,\n",
       "  1341,\n",
       "  270,\n",
       "  506,\n",
       "  221,\n",
       "  3319,\n",
       "  452,\n",
       "  2780,\n",
       "  1027,\n",
       "  3472,\n",
       "  608,\n",
       "  840,\n",
       "  7665,\n",
       "  1969,\n",
       "  3343,\n",
       "  1332,\n",
       "  1717,\n",
       "  2893,\n",
       "  5235,\n",
       "  1980]}"
      ]
     },
     "execution_count": 19,
     "metadata": {},
     "output_type": "execute_result"
    }
   ],
   "source": [
    "links_dict"
   ]
  },
  {
   "cell_type": "code",
   "execution_count": 20,
   "metadata": {},
   "outputs": [],
   "source": [
    "fig = go.Figure(data=[go.Sankey(\n",
    "    node = dict(\n",
    "        pad = 15,\n",
    "        thickness = 20,\n",
    "        line = dict(color = 'black', width = 0.5),\n",
    "        label = unique_source_target,\n",
    "        color = '#fc3f93'\n",
    "    ),\n",
    "\n",
    "    link = dict(\n",
    "        source = links_dict['source'],\n",
    "        target = links_dict['target'],\n",
    "        value = links_dict['value']\n",
    "    )\n",
    ")] \n",
    ")"
   ]
  },
  {
   "cell_type": "code",
   "execution_count": 21,
   "metadata": {},
   "outputs": [
    {
     "data": {
      "application/vnd.plotly.v1+json": {
       "config": {
        "plotlyServerURL": "https://plot.ly"
       },
       "data": [
        {
         "link": {
          "source": [
           0,
           0,
           1,
           1,
           2,
           2,
           3,
           3,
           4,
           4,
           5,
           5,
           6,
           6,
           7,
           7,
           7,
           7,
           7,
           7,
           7,
           7,
           7,
           7,
           7,
           7,
           7,
           8,
           8,
           8,
           8,
           8,
           8,
           8,
           8,
           8,
           8,
           8,
           8,
           8
          ],
          "target": [
           5,
           6,
           5,
           6,
           5,
           6,
           5,
           6,
           5,
           6,
           7,
           8,
           7,
           8,
           9,
           10,
           11,
           12,
           13,
           14,
           15,
           16,
           17,
           18,
           19,
           20,
           21,
           9,
           10,
           11,
           12,
           13,
           14,
           15,
           16,
           17,
           18,
           19,
           20,
           21
          ],
          "value": [
           2188,
           8013,
           1592,
           9511,
           86,
           762,
           3136,
           13376,
           1667,
           7517,
           3473,
           5196,
           9514,
           29665,
           930,
           544,
           741,
           382,
           408,
           2947,
           926,
           1341,
           270,
           506,
           221,
           3319,
           452,
           2780,
           1027,
           3472,
           608,
           840,
           7665,
           1969,
           3343,
           1332,
           1717,
           2893,
           5235,
           1980
          ]
         },
         "node": {
          "color": "#fc3f93",
          "label": [
           "Centro Sur",
           "Ciudad de Mexico",
           "Desarrollo Regional",
           "Norte",
           "Occidente",
           "Intercambio Internacional",
           "Study Abroad",
           "No",
           "Si",
           "Alemania",
           "Austria",
           "Canada",
           "Chile",
           "China",
           "España",
           "Estados Unidos",
           "Francia",
           "Inglaterra",
           "Italia",
           "México",
           "Otro",
           "República Checa"
          ],
          "line": {
           "color": "black",
           "width": 0.5
          },
          "pad": 15,
          "thickness": 20
         },
         "type": "sankey"
        }
       ],
       "layout": {
        "font": {
         "size": 10
        },
        "template": {
         "data": {
          "bar": [
           {
            "error_x": {
             "color": "#2a3f5f"
            },
            "error_y": {
             "color": "#2a3f5f"
            },
            "marker": {
             "line": {
              "color": "#E5ECF6",
              "width": 0.5
             },
             "pattern": {
              "fillmode": "overlay",
              "size": 10,
              "solidity": 0.2
             }
            },
            "type": "bar"
           }
          ],
          "barpolar": [
           {
            "marker": {
             "line": {
              "color": "#E5ECF6",
              "width": 0.5
             },
             "pattern": {
              "fillmode": "overlay",
              "size": 10,
              "solidity": 0.2
             }
            },
            "type": "barpolar"
           }
          ],
          "carpet": [
           {
            "aaxis": {
             "endlinecolor": "#2a3f5f",
             "gridcolor": "white",
             "linecolor": "white",
             "minorgridcolor": "white",
             "startlinecolor": "#2a3f5f"
            },
            "baxis": {
             "endlinecolor": "#2a3f5f",
             "gridcolor": "white",
             "linecolor": "white",
             "minorgridcolor": "white",
             "startlinecolor": "#2a3f5f"
            },
            "type": "carpet"
           }
          ],
          "choropleth": [
           {
            "colorbar": {
             "outlinewidth": 0,
             "ticks": ""
            },
            "type": "choropleth"
           }
          ],
          "contour": [
           {
            "colorbar": {
             "outlinewidth": 0,
             "ticks": ""
            },
            "colorscale": [
             [
              0,
              "#0d0887"
             ],
             [
              0.1111111111111111,
              "#46039f"
             ],
             [
              0.2222222222222222,
              "#7201a8"
             ],
             [
              0.3333333333333333,
              "#9c179e"
             ],
             [
              0.4444444444444444,
              "#bd3786"
             ],
             [
              0.5555555555555556,
              "#d8576b"
             ],
             [
              0.6666666666666666,
              "#ed7953"
             ],
             [
              0.7777777777777778,
              "#fb9f3a"
             ],
             [
              0.8888888888888888,
              "#fdca26"
             ],
             [
              1,
              "#f0f921"
             ]
            ],
            "type": "contour"
           }
          ],
          "contourcarpet": [
           {
            "colorbar": {
             "outlinewidth": 0,
             "ticks": ""
            },
            "type": "contourcarpet"
           }
          ],
          "heatmap": [
           {
            "colorbar": {
             "outlinewidth": 0,
             "ticks": ""
            },
            "colorscale": [
             [
              0,
              "#0d0887"
             ],
             [
              0.1111111111111111,
              "#46039f"
             ],
             [
              0.2222222222222222,
              "#7201a8"
             ],
             [
              0.3333333333333333,
              "#9c179e"
             ],
             [
              0.4444444444444444,
              "#bd3786"
             ],
             [
              0.5555555555555556,
              "#d8576b"
             ],
             [
              0.6666666666666666,
              "#ed7953"
             ],
             [
              0.7777777777777778,
              "#fb9f3a"
             ],
             [
              0.8888888888888888,
              "#fdca26"
             ],
             [
              1,
              "#f0f921"
             ]
            ],
            "type": "heatmap"
           }
          ],
          "heatmapgl": [
           {
            "colorbar": {
             "outlinewidth": 0,
             "ticks": ""
            },
            "colorscale": [
             [
              0,
              "#0d0887"
             ],
             [
              0.1111111111111111,
              "#46039f"
             ],
             [
              0.2222222222222222,
              "#7201a8"
             ],
             [
              0.3333333333333333,
              "#9c179e"
             ],
             [
              0.4444444444444444,
              "#bd3786"
             ],
             [
              0.5555555555555556,
              "#d8576b"
             ],
             [
              0.6666666666666666,
              "#ed7953"
             ],
             [
              0.7777777777777778,
              "#fb9f3a"
             ],
             [
              0.8888888888888888,
              "#fdca26"
             ],
             [
              1,
              "#f0f921"
             ]
            ],
            "type": "heatmapgl"
           }
          ],
          "histogram": [
           {
            "marker": {
             "pattern": {
              "fillmode": "overlay",
              "size": 10,
              "solidity": 0.2
             }
            },
            "type": "histogram"
           }
          ],
          "histogram2d": [
           {
            "colorbar": {
             "outlinewidth": 0,
             "ticks": ""
            },
            "colorscale": [
             [
              0,
              "#0d0887"
             ],
             [
              0.1111111111111111,
              "#46039f"
             ],
             [
              0.2222222222222222,
              "#7201a8"
             ],
             [
              0.3333333333333333,
              "#9c179e"
             ],
             [
              0.4444444444444444,
              "#bd3786"
             ],
             [
              0.5555555555555556,
              "#d8576b"
             ],
             [
              0.6666666666666666,
              "#ed7953"
             ],
             [
              0.7777777777777778,
              "#fb9f3a"
             ],
             [
              0.8888888888888888,
              "#fdca26"
             ],
             [
              1,
              "#f0f921"
             ]
            ],
            "type": "histogram2d"
           }
          ],
          "histogram2dcontour": [
           {
            "colorbar": {
             "outlinewidth": 0,
             "ticks": ""
            },
            "colorscale": [
             [
              0,
              "#0d0887"
             ],
             [
              0.1111111111111111,
              "#46039f"
             ],
             [
              0.2222222222222222,
              "#7201a8"
             ],
             [
              0.3333333333333333,
              "#9c179e"
             ],
             [
              0.4444444444444444,
              "#bd3786"
             ],
             [
              0.5555555555555556,
              "#d8576b"
             ],
             [
              0.6666666666666666,
              "#ed7953"
             ],
             [
              0.7777777777777778,
              "#fb9f3a"
             ],
             [
              0.8888888888888888,
              "#fdca26"
             ],
             [
              1,
              "#f0f921"
             ]
            ],
            "type": "histogram2dcontour"
           }
          ],
          "mesh3d": [
           {
            "colorbar": {
             "outlinewidth": 0,
             "ticks": ""
            },
            "type": "mesh3d"
           }
          ],
          "parcoords": [
           {
            "line": {
             "colorbar": {
              "outlinewidth": 0,
              "ticks": ""
             }
            },
            "type": "parcoords"
           }
          ],
          "pie": [
           {
            "automargin": true,
            "type": "pie"
           }
          ],
          "scatter": [
           {
            "fillpattern": {
             "fillmode": "overlay",
             "size": 10,
             "solidity": 0.2
            },
            "type": "scatter"
           }
          ],
          "scatter3d": [
           {
            "line": {
             "colorbar": {
              "outlinewidth": 0,
              "ticks": ""
             }
            },
            "marker": {
             "colorbar": {
              "outlinewidth": 0,
              "ticks": ""
             }
            },
            "type": "scatter3d"
           }
          ],
          "scattercarpet": [
           {
            "marker": {
             "colorbar": {
              "outlinewidth": 0,
              "ticks": ""
             }
            },
            "type": "scattercarpet"
           }
          ],
          "scattergeo": [
           {
            "marker": {
             "colorbar": {
              "outlinewidth": 0,
              "ticks": ""
             }
            },
            "type": "scattergeo"
           }
          ],
          "scattergl": [
           {
            "marker": {
             "colorbar": {
              "outlinewidth": 0,
              "ticks": ""
             }
            },
            "type": "scattergl"
           }
          ],
          "scattermapbox": [
           {
            "marker": {
             "colorbar": {
              "outlinewidth": 0,
              "ticks": ""
             }
            },
            "type": "scattermapbox"
           }
          ],
          "scatterpolar": [
           {
            "marker": {
             "colorbar": {
              "outlinewidth": 0,
              "ticks": ""
             }
            },
            "type": "scatterpolar"
           }
          ],
          "scatterpolargl": [
           {
            "marker": {
             "colorbar": {
              "outlinewidth": 0,
              "ticks": ""
             }
            },
            "type": "scatterpolargl"
           }
          ],
          "scatterternary": [
           {
            "marker": {
             "colorbar": {
              "outlinewidth": 0,
              "ticks": ""
             }
            },
            "type": "scatterternary"
           }
          ],
          "surface": [
           {
            "colorbar": {
             "outlinewidth": 0,
             "ticks": ""
            },
            "colorscale": [
             [
              0,
              "#0d0887"
             ],
             [
              0.1111111111111111,
              "#46039f"
             ],
             [
              0.2222222222222222,
              "#7201a8"
             ],
             [
              0.3333333333333333,
              "#9c179e"
             ],
             [
              0.4444444444444444,
              "#bd3786"
             ],
             [
              0.5555555555555556,
              "#d8576b"
             ],
             [
              0.6666666666666666,
              "#ed7953"
             ],
             [
              0.7777777777777778,
              "#fb9f3a"
             ],
             [
              0.8888888888888888,
              "#fdca26"
             ],
             [
              1,
              "#f0f921"
             ]
            ],
            "type": "surface"
           }
          ],
          "table": [
           {
            "cells": {
             "fill": {
              "color": "#EBF0F8"
             },
             "line": {
              "color": "white"
             }
            },
            "header": {
             "fill": {
              "color": "#C8D4E3"
             },
             "line": {
              "color": "white"
             }
            },
            "type": "table"
           }
          ]
         },
         "layout": {
          "annotationdefaults": {
           "arrowcolor": "#2a3f5f",
           "arrowhead": 0,
           "arrowwidth": 1
          },
          "autotypenumbers": "strict",
          "coloraxis": {
           "colorbar": {
            "outlinewidth": 0,
            "ticks": ""
           }
          },
          "colorscale": {
           "diverging": [
            [
             0,
             "#8e0152"
            ],
            [
             0.1,
             "#c51b7d"
            ],
            [
             0.2,
             "#de77ae"
            ],
            [
             0.3,
             "#f1b6da"
            ],
            [
             0.4,
             "#fde0ef"
            ],
            [
             0.5,
             "#f7f7f7"
            ],
            [
             0.6,
             "#e6f5d0"
            ],
            [
             0.7,
             "#b8e186"
            ],
            [
             0.8,
             "#7fbc41"
            ],
            [
             0.9,
             "#4d9221"
            ],
            [
             1,
             "#276419"
            ]
           ],
           "sequential": [
            [
             0,
             "#0d0887"
            ],
            [
             0.1111111111111111,
             "#46039f"
            ],
            [
             0.2222222222222222,
             "#7201a8"
            ],
            [
             0.3333333333333333,
             "#9c179e"
            ],
            [
             0.4444444444444444,
             "#bd3786"
            ],
            [
             0.5555555555555556,
             "#d8576b"
            ],
            [
             0.6666666666666666,
             "#ed7953"
            ],
            [
             0.7777777777777778,
             "#fb9f3a"
            ],
            [
             0.8888888888888888,
             "#fdca26"
            ],
            [
             1,
             "#f0f921"
            ]
           ],
           "sequentialminus": [
            [
             0,
             "#0d0887"
            ],
            [
             0.1111111111111111,
             "#46039f"
            ],
            [
             0.2222222222222222,
             "#7201a8"
            ],
            [
             0.3333333333333333,
             "#9c179e"
            ],
            [
             0.4444444444444444,
             "#bd3786"
            ],
            [
             0.5555555555555556,
             "#d8576b"
            ],
            [
             0.6666666666666666,
             "#ed7953"
            ],
            [
             0.7777777777777778,
             "#fb9f3a"
            ],
            [
             0.8888888888888888,
             "#fdca26"
            ],
            [
             1,
             "#f0f921"
            ]
           ]
          },
          "colorway": [
           "#636efa",
           "#EF553B",
           "#00cc96",
           "#ab63fa",
           "#FFA15A",
           "#19d3f3",
           "#FF6692",
           "#B6E880",
           "#FF97FF",
           "#FECB52"
          ],
          "font": {
           "color": "#2a3f5f"
          },
          "geo": {
           "bgcolor": "white",
           "lakecolor": "white",
           "landcolor": "#E5ECF6",
           "showlakes": true,
           "showland": true,
           "subunitcolor": "white"
          },
          "hoverlabel": {
           "align": "left"
          },
          "hovermode": "closest",
          "mapbox": {
           "style": "light"
          },
          "paper_bgcolor": "white",
          "plot_bgcolor": "#E5ECF6",
          "polar": {
           "angularaxis": {
            "gridcolor": "white",
            "linecolor": "white",
            "ticks": ""
           },
           "bgcolor": "#E5ECF6",
           "radialaxis": {
            "gridcolor": "white",
            "linecolor": "white",
            "ticks": ""
           }
          },
          "scene": {
           "xaxis": {
            "backgroundcolor": "#E5ECF6",
            "gridcolor": "white",
            "gridwidth": 2,
            "linecolor": "white",
            "showbackground": true,
            "ticks": "",
            "zerolinecolor": "white"
           },
           "yaxis": {
            "backgroundcolor": "#E5ECF6",
            "gridcolor": "white",
            "gridwidth": 2,
            "linecolor": "white",
            "showbackground": true,
            "ticks": "",
            "zerolinecolor": "white"
           },
           "zaxis": {
            "backgroundcolor": "#E5ECF6",
            "gridcolor": "white",
            "gridwidth": 2,
            "linecolor": "white",
            "showbackground": true,
            "ticks": "",
            "zerolinecolor": "white"
           }
          },
          "shapedefaults": {
           "line": {
            "color": "#2a3f5f"
           }
          },
          "ternary": {
           "aaxis": {
            "gridcolor": "white",
            "linecolor": "white",
            "ticks": ""
           },
           "baxis": {
            "gridcolor": "white",
            "linecolor": "white",
            "ticks": ""
           },
           "bgcolor": "#E5ECF6",
           "caxis": {
            "gridcolor": "white",
            "linecolor": "white",
            "ticks": ""
           }
          },
          "title": {
           "x": 0.05
          },
          "xaxis": {
           "automargin": true,
           "gridcolor": "white",
           "linecolor": "white",
           "ticks": "",
           "title": {
            "standoff": 15
           },
           "zerolinecolor": "white",
           "zerolinewidth": 2
          },
          "yaxis": {
           "automargin": true,
           "gridcolor": "white",
           "linecolor": "white",
           "ticks": "",
           "title": {
            "standoff": 15
           },
           "zerolinecolor": "white",
           "zerolinewidth": 2
          }
         }
        },
        "title": {
         "text": "Programas Internacionales Alluvial Diagram"
        }
       }
      }
     },
     "metadata": {},
     "output_type": "display_data"
    }
   ],
   "source": [
    "fig.update_layout(title_text = 'Programas Internacionales Alluvial Diagram', font_size = 10)\n",
    "fig.show()"
   ]
  },
  {
   "cell_type": "code",
   "execution_count": 22,
   "metadata": {},
   "outputs": [],
   "source": [
    "pd.set_option('display.max_rows', 500)"
   ]
  },
  {
   "cell_type": "code",
   "execution_count": 23,
   "metadata": {},
   "outputs": [
    {
     "data": {
      "text/plain": [
       "Verano 2015                                                           3950\n",
       "Enero - Mayo 2016                                                     2418\n",
       "Enero - Mayo 2017                                                     2331\n",
       "Enero - Mayo 2015                                                     2072\n",
       "Verano 2016                                                           1783\n",
       "Enero - Mayo 2018                                                     1687\n",
       "Enero - Mayo 2019                                                     1667\n",
       "Agosto - Diciembre 2016                                               1562\n",
       "Agosto - Diciembre 2015                                               1513\n",
       "Verano 2019-Sesión 3                                                  1509\n",
       "Agosto - Diciembre 2017                                               1503\n",
       "Febrero - Junio 2022                                                  1500\n",
       "Febrero - Junio 2020                                                  1308\n",
       "Agosto - Diciembre 2018                                               1030\n",
       "Agosto - Diciembre 2019                                               1022\n",
       "Verano 2016-Sesion 1                                                   911\n",
       "Verano 2018-Sesión 2                                                   882\n",
       "Verano 2017-Sesion 2                                                   836\n",
       "Agosto - Diciembre 2022                                                834\n",
       "Verano 2017-Sesion 3                                                   774\n",
       "Verano 2018-Sesión 1                                                   769\n",
       "Verano 2017-Sesion 1                                                   746\n",
       "Verano 2016-Sesion 3                                                   733\n",
       "Invierno 2020 Profesional                                              713\n",
       "Agosto 2019 - Mayo 2020                                                652\n",
       "Invierno 2015                                                          641\n",
       "Verano 2019-Sesión 1                                                   634\n",
       "Invierno 2017                                                          606\n",
       "Verano 2016-Sesion 2                                                   598\n",
       "Agosto - Diciembre 2021                                                592\n",
       "Agosto 2015 - Mayo 2016                                                573\n",
       "Verano 2018-Sesión 3                                                   573\n",
       "Agosto 2016 - Mayo 2017                                                554\n",
       "Invierno 2016                                                          546\n",
       "Invierno 2018                                                          508\n",
       "Agosto 2017 - MAYO 2018                                                503\n",
       "Agosto 2018 - Mayo 2019                                                479\n",
       "Agosto - Diciembre 2021 (Candidatos a graduación)                      452\n",
       "Verano 2021 (a distancia)                                              412\n",
       "Verano 2022 Profesional                                                395\n",
       "Invierno 2022                                                          392\n",
       "Febrero - Junio 2020 (Cierre Anticipado y Candidatos a graduación)     379\n",
       "Invierno 2014                                                          375\n",
       "Verano 2019-Sesión 2                                                   364\n",
       "Invierno 2021 (a distancia)                                            220\n",
       "Febrero - Junio 2021                                                   171\n",
       "Enero - Marzo 2017 (Rotaciones Clínicas)                               169\n",
       "Marzo - Junio 2017 (Rotaciones Clínicas)                               165\n",
       "Agosto 2021 - Junio 2022 (Doble Grado)                                 157\n",
       "Agosto 2021 - Junio 2022                                               155\n",
       "Marzo - Junio 2016 (Rotaciones Clínicas)                               147\n",
       "Septiembre - Diciembre 2016  (Rotaciones Clínicas)                     146\n",
       "Enero - Marzo 2016 (Rotaciones Clínicas)                               145\n",
       "Julio - Septiembre 2016  (Rotaciones Clínicas)                         145\n",
       "Febrero - Junio 2021 (Cierre anticipado y Candidatos a graduación)     144\n",
       "Agosto - Diciembre 2022 (Tec21)                                        134\n",
       "Mayo - Septiembre 2020                                                 133\n",
       "Agosto - Diciembre 2020 (Especial)                                     119\n",
       "Agosto 2020 - Junio 2021 (Especial)                                     88\n",
       "Verano 2017                                                             86\n",
       "Febrero - Junio 2021 (a distancia)                                      77\n",
       "Invierno 2022 (A distancia)                                             69\n",
       "Agosto - Diciembre 2021 (A distancia y carga parcial)                   66\n",
       "Febrero - Junio 2020 (Doble Grado)                                      65\n",
       "Verano 2020 Profesional                                                 56\n",
       "Agosto - Diciembre 2021 (a distancia)                                   47\n",
       "Febrero - Junio 2022 (Tec 21)                                           46\n",
       "Febrero - Diciembre 2021 (Doble grado)                                  46\n",
       "Febrero - Junio 2022 (Doble Grado)                                      43\n",
       "Agosto - Diciembre 2022 (Preselección)                                  40\n",
       "Febrero - Junio 2021 (A distancia y carga parcial)                      39\n",
       "Febrero - Diciembre 2022                                                32\n",
       "Enero - Mayo 2019 (Cierre Anticipado)                                   27\n",
       "Febrero - Junio 2022 (A distancia y carga parcial)                      26\n",
       "Julio - Septiembre 2017 (Rotaciones Clínicas)                           26\n",
       "Octubre - Diciembre 2021 (Rotaciones Clínicas)                          25\n",
       "Agosto 2022 - Junio 2023                                                25\n",
       "Septiembre - Diciembre 2017  (Rotaciones Clínicas)                      23\n",
       "Septiembre 2017 - Septiembre 2018 EGADE                                 22\n",
       "Verano 2021 Profesional                                                 21\n",
       "Agosto 2022 - Junio 2023 (Doble Grado)                                  20\n",
       "Agosto 2018 - Diciembre 2019                                            20\n",
       "Febrero - Junio 2021 (Doble Grado)                                      19\n",
       "Enero - Marzo 2015                                                      19\n",
       "Febrero - Diciembre 2022 (Doble Grado)                                  19\n",
       "Agosto - Diciembre 2019 (Cierre Anticipado)                             18\n",
       "Enero - Mayo 2018 (Cierre Anticipado)                                   18\n",
       "Febrero - Diciembre 2021                                                17\n",
       "Agosto 2019 - Diciembre 2020                                            17\n",
       "Agosto - Diciembre 2021 (Doble Grado)                                   17\n",
       "Enero - Diciembre 2019                                                  16\n",
       "Enero - Diciembre 2017                                                  16\n",
       "Verano de Excelencia 2018                                               16\n",
       "Agosto - Diciembre 2018 (Cierre Anticipado)                             15\n",
       "Febrero - Junio 2022 (Cierre Anticipado)                                15\n",
       "Agosto 2021 - Junio 2022 (Candidatos a graduación)                      14\n",
       "Invierno 2021 (Tec21 a distancia)                                       13\n",
       "Enero - Diciembre 2015                                                  11\n",
       "Febrero - Diciembre 2020                                                 9\n",
       "Febrero - Junio 2022 (A distancia)                                       9\n",
       "Agosto - Diciembre 2020 (a distancia)                                    8\n",
       "Agosto - Diciembre 2022 (Cierre anticipado)                              8\n",
       "Agosto 2021 - Diciembre 2022                                             8\n",
       "Enero - Diciembre 2016                                                   8\n",
       "Agosto 2020 - Diciembre 2021 (Especial)                                  7\n",
       "Agosto 2022 - Junio 2023 (Tec21)                                         5\n",
       "Septiembre 2017 - Julio 2018 EGADE                                       5\n",
       "Enero - Diciembre 2018                                                   5\n",
       "Abril - Julio 2015                                                       4\n",
       "Agosto 2017 - Diciembre 2018                                             4\n",
       "Agosto - Diciembre 2021 (Cierre Anticipado)                              4\n",
       "Enero - Mayo 2018 (Nacional)                                             4\n",
       "Invierno 2022 (Tec 21)                                                   4\n",
       "Febrero - Diciembre 2022 (Tec 21)                                        3\n",
       "Agosto - Diciembre 2022 (Doble Grado)                                    3\n",
       "Febrero - Diciembre 2020 (Doble Grado)                                   3\n",
       "Enero 2018 - Mayo 2019                                                   3\n",
       "Agosto 2016 - Diciembre 2017                                             2\n",
       "Febrero 2021 - Junio 2022                                                2\n",
       "Febrero 2020 - Junio 2021 (Doble Grado)                                  2\n",
       "Verano 2021 (Tec21 a distancia)                                          2\n",
       "Agosto 2021 - Junio 2022 (a distancia y carga parcial)                   1\n",
       "Septiembre - Diciembre 2015                                              1\n",
       "Enero - Marzo 2016                                                       1\n",
       "Febrero 2022 - Junio 2023 (Doble Grado)                                  1\n",
       "Febrero 2020 - Junio 2021                                                1\n",
       "Agosto - Diciembre 2022 (a distancia)                                    1\n",
       "Febrero - Junio 2022 (Tec 21 a distancia)                                1\n",
       "Agosto - Diciembre 2021 (Candidatos a graduación a distancia)            1\n",
       "Agosto 2022 - Diciembre 2023 (Doble Grado)                               1\n",
       "Agosto - Diciembre 2022 (Cierre Anticipado Tec 21)                       1\n",
       "Name: PeriodoAcadémico, dtype: int64"
      ]
     },
     "execution_count": 23,
     "metadata": {},
     "output_type": "execute_result"
    }
   ],
   "source": [
    "df['PeriodoAcadémico'].value_counts()"
   ]
  },
  {
   "cell_type": "code",
   "execution_count": 40,
   "metadata": {},
   "outputs": [],
   "source": [
    "def selec_periodo(periodo):\n",
    "    if periodo == 'Enero-Junio':\n",
    "        return r'Enero|Febrero|Junio|Mayo'\n",
    "    elif periodo == 'Agosto-Diciembre':\n",
    "        return r'Agosto|Septiembre|Diciembre'\n",
    "    elif periodo == 'Verano':\n",
    "        return r'Verano|Julio'\n",
    "    else:\n",
    "        return 'Invierno'"
   ]
  },
  {
   "cell_type": "code",
   "execution_count": 47,
   "metadata": {},
   "outputs": [],
   "source": [
    "periodo = input('Inserta periodo: ')\n",
    "año = input('Inserta año: ')\n",
    "\n",
    "periodo = selec_periodo(periodo)"
   ]
  },
  {
   "cell_type": "code",
   "execution_count": 50,
   "metadata": {},
   "outputs": [
    {
     "data": {
      "text/html": [
       "<div>\n",
       "<style scoped>\n",
       "    .dataframe tbody tr th:only-of-type {\n",
       "        vertical-align: middle;\n",
       "    }\n",
       "\n",
       "    .dataframe tbody tr th {\n",
       "        vertical-align: top;\n",
       "    }\n",
       "\n",
       "    .dataframe thead th {\n",
       "        text-align: right;\n",
       "    }\n",
       "</style>\n",
       "<table border=\"1\" class=\"dataframe\">\n",
       "  <thead>\n",
       "    <tr style=\"text-align: right;\">\n",
       "      <th></th>\n",
       "      <th>Unnamed: 0</th>\n",
       "      <th>Instancia</th>\n",
       "      <th>Matrícula</th>\n",
       "      <th>Nombre</th>\n",
       "      <th>Ap Paterno</th>\n",
       "      <th>Ap Materno</th>\n",
       "      <th>Campus</th>\n",
       "      <th>Programa</th>\n",
       "      <th>Promedio</th>\n",
       "      <th>Núm. MatAprobadas</th>\n",
       "      <th>...</th>\n",
       "      <th>CampusAdministrador</th>\n",
       "      <th>PeriodoAcadémico</th>\n",
       "      <th>Actividad Actual</th>\n",
       "      <th>Fecha</th>\n",
       "      <th>Estatuslimpio</th>\n",
       "      <th>Intercambio Internacional</th>\n",
       "      <th>PrimeraOpcion</th>\n",
       "      <th>PaisSeleccionado</th>\n",
       "      <th>PaisAsignado</th>\n",
       "      <th>Región</th>\n",
       "    </tr>\n",
       "  </thead>\n",
       "  <tbody>\n",
       "    <tr>\n",
       "      <th>41346</th>\n",
       "      <td>60681</td>\n",
       "      <td>338558</td>\n",
       "      <td>A01021688</td>\n",
       "      <td>Montserrat</td>\n",
       "      <td>Fernández Cobos</td>\n",
       "      <td>Carranza</td>\n",
       "      <td>Santa Fe</td>\n",
       "      <td>BFI</td>\n",
       "      <td>96.818</td>\n",
       "      <td>62.0</td>\n",
       "      <td>...</td>\n",
       "      <td>Santa Fe</td>\n",
       "      <td>Febrero 2021 - Junio 2022</td>\n",
       "      <td>Documentos de admisión (checklist)</td>\n",
       "      <td>05/10/20 1:32</td>\n",
       "      <td>Asignado</td>\n",
       "      <td>Study Abroad</td>\n",
       "      <td>Si</td>\n",
       "      <td>Austria</td>\n",
       "      <td>Austria</td>\n",
       "      <td>Ciudad de Mexico</td>\n",
       "    </tr>\n",
       "    <tr>\n",
       "      <th>41610</th>\n",
       "      <td>62526</td>\n",
       "      <td>339673</td>\n",
       "      <td>A01363479</td>\n",
       "      <td>Adalberto</td>\n",
       "      <td>Michel</td>\n",
       "      <td>Vargas</td>\n",
       "      <td>Toluca</td>\n",
       "      <td>BIE</td>\n",
       "      <td>86.333</td>\n",
       "      <td>57.0</td>\n",
       "      <td>...</td>\n",
       "      <td>Toluca</td>\n",
       "      <td>Febrero 2021 - Junio 2022</td>\n",
       "      <td>Validar documentos de checklist (PI)</td>\n",
       "      <td>14/12/20 9:10</td>\n",
       "      <td>Asignado</td>\n",
       "      <td>Study Abroad</td>\n",
       "      <td>Si</td>\n",
       "      <td>Francia</td>\n",
       "      <td>Francia</td>\n",
       "      <td>Centro Sur</td>\n",
       "    </tr>\n",
       "    <tr>\n",
       "      <th>41928</th>\n",
       "      <td>63373</td>\n",
       "      <td>340993</td>\n",
       "      <td>A00823819</td>\n",
       "      <td>Héctor Alejandro</td>\n",
       "      <td>Castillo</td>\n",
       "      <td>González</td>\n",
       "      <td>Monterrey</td>\n",
       "      <td>BBA</td>\n",
       "      <td>92.365</td>\n",
       "      <td>53.0</td>\n",
       "      <td>...</td>\n",
       "      <td>Monterrey</td>\n",
       "      <td>Agosto 2021 - Junio 2022 (Doble Grado)</td>\n",
       "      <td>Validar documentos de checklist (PI)</td>\n",
       "      <td>19/02/21 16:14</td>\n",
       "      <td>Asignado</td>\n",
       "      <td>Study Abroad</td>\n",
       "      <td>Si</td>\n",
       "      <td>Francia</td>\n",
       "      <td>Francia</td>\n",
       "      <td>Norte</td>\n",
       "    </tr>\n",
       "    <tr>\n",
       "      <th>41968</th>\n",
       "      <td>63519</td>\n",
       "      <td>340430</td>\n",
       "      <td>A01382209</td>\n",
       "      <td>Eduardo</td>\n",
       "      <td>Ornelas</td>\n",
       "      <td>Navarro</td>\n",
       "      <td>Saltillo</td>\n",
       "      <td>IMT</td>\n",
       "      <td>88.690</td>\n",
       "      <td>42.0</td>\n",
       "      <td>...</td>\n",
       "      <td>Monterrey</td>\n",
       "      <td>Agosto 2021 - Junio 2022 (Candidatos a graduac...</td>\n",
       "      <td>Documentos para salida (checklist)</td>\n",
       "      <td>25/02/21 17:27</td>\n",
       "      <td>Asignado</td>\n",
       "      <td>Intercambio Internacional</td>\n",
       "      <td>Si</td>\n",
       "      <td>Alemania</td>\n",
       "      <td>Alemania</td>\n",
       "      <td>Norte</td>\n",
       "    </tr>\n",
       "    <tr>\n",
       "      <th>41981</th>\n",
       "      <td>63550</td>\n",
       "      <td>340991</td>\n",
       "      <td>A00823995</td>\n",
       "      <td>Daniel Rubén</td>\n",
       "      <td>Martínez</td>\n",
       "      <td>Martínez</td>\n",
       "      <td>Monterrey</td>\n",
       "      <td>BCN</td>\n",
       "      <td>86.229</td>\n",
       "      <td>47.0</td>\n",
       "      <td>...</td>\n",
       "      <td>Monterrey</td>\n",
       "      <td>Agosto 2021 - Junio 2022 (Doble Grado)</td>\n",
       "      <td>Documentos para salida (checklist)</td>\n",
       "      <td>26/02/21 14:01</td>\n",
       "      <td>Asignado</td>\n",
       "      <td>Study Abroad</td>\n",
       "      <td>Si</td>\n",
       "      <td>Inglaterra</td>\n",
       "      <td>Inglaterra</td>\n",
       "      <td>Norte</td>\n",
       "    </tr>\n",
       "    <tr>\n",
       "      <th>...</th>\n",
       "      <td>...</td>\n",
       "      <td>...</td>\n",
       "      <td>...</td>\n",
       "      <td>...</td>\n",
       "      <td>...</td>\n",
       "      <td>...</td>\n",
       "      <td>...</td>\n",
       "      <td>...</td>\n",
       "      <td>...</td>\n",
       "      <td>...</td>\n",
       "      <td>...</td>\n",
       "      <td>...</td>\n",
       "      <td>...</td>\n",
       "      <td>...</td>\n",
       "      <td>...</td>\n",
       "      <td>...</td>\n",
       "      <td>...</td>\n",
       "      <td>...</td>\n",
       "      <td>...</td>\n",
       "      <td>...</td>\n",
       "      <td>...</td>\n",
       "    </tr>\n",
       "    <tr>\n",
       "      <th>47290</th>\n",
       "      <td>79949</td>\n",
       "      <td>582020</td>\n",
       "      <td>A01027292</td>\n",
       "      <td>Ana Paula</td>\n",
       "      <td>Cosio</td>\n",
       "      <td>Clusa</td>\n",
       "      <td>Santa Fe</td>\n",
       "      <td>LPE</td>\n",
       "      <td>81.500</td>\n",
       "      <td>3.0</td>\n",
       "      <td>...</td>\n",
       "      <td>Santa Fe</td>\n",
       "      <td>Agosto 2022 - Junio 2023 (Tec21)</td>\n",
       "      <td>Documentos de admisión (checklist) y Registrar...</td>\n",
       "      <td>23/03/22 13:41</td>\n",
       "      <td>Asignado</td>\n",
       "      <td>Study Abroad</td>\n",
       "      <td>Si</td>\n",
       "      <td>España</td>\n",
       "      <td>España</td>\n",
       "      <td>Ciudad de Mexico</td>\n",
       "    </tr>\n",
       "    <tr>\n",
       "      <th>47291</th>\n",
       "      <td>79950</td>\n",
       "      <td>559349</td>\n",
       "      <td>A01123385</td>\n",
       "      <td>Nuri</td>\n",
       "      <td>Serrano</td>\n",
       "      <td>Montero</td>\n",
       "      <td>Ciudad de México</td>\n",
       "      <td>ARQ</td>\n",
       "      <td>71.942</td>\n",
       "      <td>0.0</td>\n",
       "      <td>...</td>\n",
       "      <td>León</td>\n",
       "      <td>Agosto 2022 - Junio 2023 (Tec21)</td>\n",
       "      <td>Registro de carta de aceptación</td>\n",
       "      <td>23/03/22 13:41</td>\n",
       "      <td>Asignado</td>\n",
       "      <td>Intercambio Internacional</td>\n",
       "      <td>Si</td>\n",
       "      <td>Alemania</td>\n",
       "      <td>Alemania</td>\n",
       "      <td>Ciudad de Mexico</td>\n",
       "    </tr>\n",
       "    <tr>\n",
       "      <th>47334</th>\n",
       "      <td>80150</td>\n",
       "      <td>510058</td>\n",
       "      <td>A01368386</td>\n",
       "      <td>César David</td>\n",
       "      <td>Rosales</td>\n",
       "      <td>Álvarez</td>\n",
       "      <td>Toluca</td>\n",
       "      <td>IMA</td>\n",
       "      <td>76.976</td>\n",
       "      <td>30.0</td>\n",
       "      <td>...</td>\n",
       "      <td>Querétaro</td>\n",
       "      <td>Agosto 2022 - Junio 2023</td>\n",
       "      <td>Registro de carta de aceptación</td>\n",
       "      <td>25/03/22 11:02</td>\n",
       "      <td>Asignado</td>\n",
       "      <td>Intercambio Internacional</td>\n",
       "      <td>Si</td>\n",
       "      <td>España</td>\n",
       "      <td>España</td>\n",
       "      <td>Centro Sur</td>\n",
       "    </tr>\n",
       "    <tr>\n",
       "      <th>47526</th>\n",
       "      <td>80665</td>\n",
       "      <td>518474</td>\n",
       "      <td>A01329785</td>\n",
       "      <td>David</td>\n",
       "      <td>Zárate</td>\n",
       "      <td>López</td>\n",
       "      <td>Puebla</td>\n",
       "      <td>ITC</td>\n",
       "      <td>90.230</td>\n",
       "      <td>0.0</td>\n",
       "      <td>...</td>\n",
       "      <td>Guadalajara</td>\n",
       "      <td>Agosto 2022 - Junio 2023 (Tec21)</td>\n",
       "      <td>Registro de carta de aceptación</td>\n",
       "      <td>28/03/22 16:42</td>\n",
       "      <td>Asignado</td>\n",
       "      <td>Intercambio Internacional</td>\n",
       "      <td>No</td>\n",
       "      <td>Alemania</td>\n",
       "      <td>Alemania</td>\n",
       "      <td>Centro Sur</td>\n",
       "    </tr>\n",
       "    <tr>\n",
       "      <th>47679</th>\n",
       "      <td>81026</td>\n",
       "      <td>525572</td>\n",
       "      <td>A00825302</td>\n",
       "      <td>Gismark Alonso</td>\n",
       "      <td>López</td>\n",
       "      <td>Sujo</td>\n",
       "      <td>Monterrey</td>\n",
       "      <td>IMD</td>\n",
       "      <td>82.257</td>\n",
       "      <td>28.0</td>\n",
       "      <td>...</td>\n",
       "      <td>Querétaro</td>\n",
       "      <td>Agosto 2022 - Junio 2023</td>\n",
       "      <td>Registro de carta de aceptación</td>\n",
       "      <td>29/03/22 15:55</td>\n",
       "      <td>Asignado</td>\n",
       "      <td>Intercambio Internacional</td>\n",
       "      <td>Si</td>\n",
       "      <td>España</td>\n",
       "      <td>España</td>\n",
       "      <td>Norte</td>\n",
       "    </tr>\n",
       "  </tbody>\n",
       "</table>\n",
       "<p>2074 rows × 29 columns</p>\n",
       "</div>"
      ],
      "text/plain": [
       "       Unnamed: 0  Instancia  Matrícula            Nombre       Ap Paterno  \\\n",
       "41346       60681     338558  A01021688        Montserrat  Fernández Cobos   \n",
       "41610       62526     339673  A01363479         Adalberto           Michel   \n",
       "41928       63373     340993  A00823819  Héctor Alejandro         Castillo   \n",
       "41968       63519     340430  A01382209           Eduardo          Ornelas   \n",
       "41981       63550     340991  A00823995      Daniel Rubén         Martínez   \n",
       "...           ...        ...        ...               ...              ...   \n",
       "47290       79949     582020  A01027292         Ana Paula            Cosio   \n",
       "47291       79950     559349  A01123385              Nuri          Serrano   \n",
       "47334       80150     510058  A01368386       César David          Rosales   \n",
       "47526       80665     518474  A01329785             David           Zárate   \n",
       "47679       81026     525572  A00825302    Gismark Alonso            López   \n",
       "\n",
       "      Ap Materno            Campus Programa  Promedio  Núm. MatAprobadas  ...  \\\n",
       "41346   Carranza          Santa Fe      BFI    96.818               62.0  ...   \n",
       "41610     Vargas            Toluca      BIE    86.333               57.0  ...   \n",
       "41928   González         Monterrey      BBA    92.365               53.0  ...   \n",
       "41968    Navarro          Saltillo      IMT    88.690               42.0  ...   \n",
       "41981   Martínez         Monterrey      BCN    86.229               47.0  ...   \n",
       "...          ...               ...      ...       ...                ...  ...   \n",
       "47290      Clusa          Santa Fe      LPE    81.500                3.0  ...   \n",
       "47291    Montero  Ciudad de México      ARQ    71.942                0.0  ...   \n",
       "47334    Álvarez            Toluca      IMA    76.976               30.0  ...   \n",
       "47526      López            Puebla      ITC    90.230                0.0  ...   \n",
       "47679       Sujo         Monterrey      IMD    82.257               28.0  ...   \n",
       "\n",
       "       CampusAdministrador                                   PeriodoAcadémico  \\\n",
       "41346             Santa Fe                          Febrero 2021 - Junio 2022   \n",
       "41610               Toluca                          Febrero 2021 - Junio 2022   \n",
       "41928            Monterrey             Agosto 2021 - Junio 2022 (Doble Grado)   \n",
       "41968            Monterrey  Agosto 2021 - Junio 2022 (Candidatos a graduac...   \n",
       "41981            Monterrey             Agosto 2021 - Junio 2022 (Doble Grado)   \n",
       "...                    ...                                                ...   \n",
       "47290             Santa Fe                   Agosto 2022 - Junio 2023 (Tec21)   \n",
       "47291                 León                   Agosto 2022 - Junio 2023 (Tec21)   \n",
       "47334            Querétaro                           Agosto 2022 - Junio 2023   \n",
       "47526          Guadalajara                   Agosto 2022 - Junio 2023 (Tec21)   \n",
       "47679            Querétaro                           Agosto 2022 - Junio 2023   \n",
       "\n",
       "                                        Actividad Actual           Fecha  \\\n",
       "41346                 Documentos de admisión (checklist)   05/10/20 1:32   \n",
       "41610               Validar documentos de checklist (PI)   14/12/20 9:10   \n",
       "41928               Validar documentos de checklist (PI)  19/02/21 16:14   \n",
       "41968                 Documentos para salida (checklist)  25/02/21 17:27   \n",
       "41981                 Documentos para salida (checklist)  26/02/21 14:01   \n",
       "...                                                  ...             ...   \n",
       "47290  Documentos de admisión (checklist) y Registrar...  23/03/22 13:41   \n",
       "47291                    Registro de carta de aceptación  23/03/22 13:41   \n",
       "47334                    Registro de carta de aceptación  25/03/22 11:02   \n",
       "47526                    Registro de carta de aceptación  28/03/22 16:42   \n",
       "47679                    Registro de carta de aceptación  29/03/22 15:55   \n",
       "\n",
       "      Estatuslimpio  Intercambio Internacional PrimeraOpcion PaisSeleccionado  \\\n",
       "41346      Asignado               Study Abroad            Si          Austria   \n",
       "41610      Asignado               Study Abroad            Si          Francia   \n",
       "41928      Asignado               Study Abroad            Si          Francia   \n",
       "41968      Asignado  Intercambio Internacional            Si         Alemania   \n",
       "41981      Asignado               Study Abroad            Si       Inglaterra   \n",
       "...             ...                        ...           ...              ...   \n",
       "47290      Asignado               Study Abroad            Si           España   \n",
       "47291      Asignado  Intercambio Internacional            Si         Alemania   \n",
       "47334      Asignado  Intercambio Internacional            Si           España   \n",
       "47526      Asignado  Intercambio Internacional            No         Alemania   \n",
       "47679      Asignado  Intercambio Internacional            Si           España   \n",
       "\n",
       "      PaisAsignado            Región  \n",
       "41346      Austria  Ciudad de Mexico  \n",
       "41610      Francia        Centro Sur  \n",
       "41928      Francia             Norte  \n",
       "41968     Alemania             Norte  \n",
       "41981   Inglaterra             Norte  \n",
       "...            ...               ...  \n",
       "47290       España  Ciudad de Mexico  \n",
       "47291     Alemania  Ciudad de Mexico  \n",
       "47334       España        Centro Sur  \n",
       "47526     Alemania        Centro Sur  \n",
       "47679       España             Norte  \n",
       "\n",
       "[2074 rows x 29 columns]"
      ]
     },
     "execution_count": 50,
     "metadata": {},
     "output_type": "execute_result"
    }
   ],
   "source": [
    "df_filt = df[(df['PeriodoAcadémico'].str.contains(periodo)) & (df['PeriodoAcadémico'].str.contains(año))]\n",
    "df_filt"
   ]
  },
  {
   "cell_type": "code",
   "execution_count": 49,
   "metadata": {},
   "outputs": [
    {
     "data": {
      "text/plain": [
       "953"
      ]
     },
     "execution_count": 49,
     "metadata": {},
     "output_type": "execute_result"
    }
   ],
   "source": [
    "inter_count = len(df_filt[df_filt['Intercambio Internacional'] == 'Intercambio Internacional'])\n",
    "inter_count"
   ]
  }
 ],
 "metadata": {
  "kernelspec": {
   "display_name": "Python 3.10.6 64-bit",
   "language": "python",
   "name": "python3"
  },
  "language_info": {
   "codemirror_mode": {
    "name": "ipython",
    "version": 3
   },
   "file_extension": ".py",
   "mimetype": "text/x-python",
   "name": "python",
   "nbconvert_exporter": "python",
   "pygments_lexer": "ipython3",
   "version": "3.10.6"
  },
  "orig_nbformat": 4,
  "vscode": {
   "interpreter": {
    "hash": "aee8b7b246df8f9039afb4144a1f6fd8d2ca17a180786b69acc140d282b71a49"
   }
  }
 },
 "nbformat": 4,
 "nbformat_minor": 2
}
