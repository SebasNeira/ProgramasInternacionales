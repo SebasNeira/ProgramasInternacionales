{
 "cells": [
  {
   "cell_type": "code",
   "execution_count": 4,
   "metadata": {},
   "outputs": [],
   "source": [
    "import pandas as pd\n",
    "import plotly.express as px"
   ]
  },
  {
   "cell_type": "code",
   "execution_count": 2,
   "metadata": {},
   "outputs": [
    {
     "data": {
      "text/html": [
       "<div>\n",
       "<style scoped>\n",
       "    .dataframe tbody tr th:only-of-type {\n",
       "        vertical-align: middle;\n",
       "    }\n",
       "\n",
       "    .dataframe tbody tr th {\n",
       "        vertical-align: top;\n",
       "    }\n",
       "\n",
       "    .dataframe thead th {\n",
       "        text-align: right;\n",
       "    }\n",
       "</style>\n",
       "<table border=\"1\" class=\"dataframe\">\n",
       "  <thead>\n",
       "    <tr style=\"text-align: right;\">\n",
       "      <th></th>\n",
       "      <th>Unnamed: 0</th>\n",
       "      <th>Instancia</th>\n",
       "      <th>Matrícula</th>\n",
       "      <th>Nombre</th>\n",
       "      <th>Ap Paterno</th>\n",
       "      <th>Ap Materno</th>\n",
       "      <th>Campus</th>\n",
       "      <th>Programa</th>\n",
       "      <th>Promedio</th>\n",
       "      <th>Núm. MatAprobadas</th>\n",
       "      <th>...</th>\n",
       "      <th>CampusAdministrador</th>\n",
       "      <th>PeriodoAcadémico</th>\n",
       "      <th>Actividad Actual</th>\n",
       "      <th>Fecha</th>\n",
       "      <th>Estatuslimpio</th>\n",
       "      <th>Intercambio Internacional</th>\n",
       "      <th>PrimeraOpcion</th>\n",
       "      <th>PaisSeleccionado</th>\n",
       "      <th>PaisAsignado</th>\n",
       "      <th>Región</th>\n",
       "    </tr>\n",
       "  </thead>\n",
       "  <tbody>\n",
       "    <tr>\n",
       "      <th>0</th>\n",
       "      <td>0</td>\n",
       "      <td>8453</td>\n",
       "      <td>A01139867</td>\n",
       "      <td>Andrés Gerardo</td>\n",
       "      <td>Garza</td>\n",
       "      <td>Canales</td>\n",
       "      <td>Monterrey</td>\n",
       "      <td>INT</td>\n",
       "      <td>90.491</td>\n",
       "      <td>57.0</td>\n",
       "      <td>...</td>\n",
       "      <td>Querétaro</td>\n",
       "      <td>Enero - Mayo 2015</td>\n",
       "      <td>Resultado de Asignación</td>\n",
       "      <td>20/AGO/2014 02:22PM</td>\n",
       "      <td>Asignado</td>\n",
       "      <td>Intercambio Internacional</td>\n",
       "      <td>Si</td>\n",
       "      <td>Estados Unidos</td>\n",
       "      <td>Estados Unidos</td>\n",
       "      <td>Norte</td>\n",
       "    </tr>\n",
       "    <tr>\n",
       "      <th>1</th>\n",
       "      <td>1</td>\n",
       "      <td>8289</td>\n",
       "      <td>A01018302</td>\n",
       "      <td>Pablo</td>\n",
       "      <td>Zebadúa</td>\n",
       "      <td>Vega</td>\n",
       "      <td>Santa Fe</td>\n",
       "      <td>ITC</td>\n",
       "      <td>85.684</td>\n",
       "      <td>0.0</td>\n",
       "      <td>...</td>\n",
       "      <td>Monterrey</td>\n",
       "      <td>Enero - Mayo 2015</td>\n",
       "      <td>Resultado de Asignación</td>\n",
       "      <td>29/AGO/2014 04:34PM</td>\n",
       "      <td>Asignado</td>\n",
       "      <td>Intercambio Internacional</td>\n",
       "      <td>No</td>\n",
       "      <td>Otro</td>\n",
       "      <td>Otro</td>\n",
       "      <td>Ciudad de Mexico</td>\n",
       "    </tr>\n",
       "    <tr>\n",
       "      <th>2</th>\n",
       "      <td>2</td>\n",
       "      <td>8510</td>\n",
       "      <td>A01205500</td>\n",
       "      <td>Laura</td>\n",
       "      <td>Treviño</td>\n",
       "      <td>Hernández</td>\n",
       "      <td>Querétaro</td>\n",
       "      <td>ISC</td>\n",
       "      <td>89.810</td>\n",
       "      <td>0.0</td>\n",
       "      <td>...</td>\n",
       "      <td>Monterrey</td>\n",
       "      <td>Enero - Mayo 2015</td>\n",
       "      <td>Resultado de Asignación</td>\n",
       "      <td>29/AGO/2014 04:35PM</td>\n",
       "      <td>Asignado</td>\n",
       "      <td>Intercambio Internacional</td>\n",
       "      <td>Si</td>\n",
       "      <td>República Checa</td>\n",
       "      <td>República Checa</td>\n",
       "      <td>Centro Sur</td>\n",
       "    </tr>\n",
       "    <tr>\n",
       "      <th>3</th>\n",
       "      <td>3</td>\n",
       "      <td>8007</td>\n",
       "      <td>A01139036</td>\n",
       "      <td>Arturo Mauricio</td>\n",
       "      <td>Lara</td>\n",
       "      <td>Martínez</td>\n",
       "      <td>Monterrey</td>\n",
       "      <td>CPF</td>\n",
       "      <td>85.465</td>\n",
       "      <td>0.0</td>\n",
       "      <td>...</td>\n",
       "      <td>Guadalajara</td>\n",
       "      <td>Enero - Mayo 2015</td>\n",
       "      <td>Resultado de Asignación</td>\n",
       "      <td>29/AGO/2014 04:43PM</td>\n",
       "      <td>Asignado</td>\n",
       "      <td>Intercambio Internacional</td>\n",
       "      <td>No</td>\n",
       "      <td>Alemania</td>\n",
       "      <td>Otro</td>\n",
       "      <td>Norte</td>\n",
       "    </tr>\n",
       "    <tr>\n",
       "      <th>4</th>\n",
       "      <td>4</td>\n",
       "      <td>14315</td>\n",
       "      <td>A00757284</td>\n",
       "      <td>Ana Gabriela</td>\n",
       "      <td>Amaro</td>\n",
       "      <td>Rodríguez</td>\n",
       "      <td>Chihuahua</td>\n",
       "      <td>LMC</td>\n",
       "      <td>84.523</td>\n",
       "      <td>0.0</td>\n",
       "      <td>...</td>\n",
       "      <td>Ciudad de México</td>\n",
       "      <td>Enero - Mayo 2015</td>\n",
       "      <td>Resultado de Asignación</td>\n",
       "      <td>29/AGO/2014 04:43PM</td>\n",
       "      <td>Asignado</td>\n",
       "      <td>Intercambio Internacional</td>\n",
       "      <td>No</td>\n",
       "      <td>España</td>\n",
       "      <td>Otro</td>\n",
       "      <td>Occidente</td>\n",
       "    </tr>\n",
       "    <tr>\n",
       "      <th>...</th>\n",
       "      <td>...</td>\n",
       "      <td>...</td>\n",
       "      <td>...</td>\n",
       "      <td>...</td>\n",
       "      <td>...</td>\n",
       "      <td>...</td>\n",
       "      <td>...</td>\n",
       "      <td>...</td>\n",
       "      <td>...</td>\n",
       "      <td>...</td>\n",
       "      <td>...</td>\n",
       "      <td>...</td>\n",
       "      <td>...</td>\n",
       "      <td>...</td>\n",
       "      <td>...</td>\n",
       "      <td>...</td>\n",
       "      <td>...</td>\n",
       "      <td>...</td>\n",
       "      <td>...</td>\n",
       "      <td>...</td>\n",
       "      <td>...</td>\n",
       "    </tr>\n",
       "    <tr>\n",
       "      <th>47843</th>\n",
       "      <td>81342</td>\n",
       "      <td>589572</td>\n",
       "      <td>A01365530</td>\n",
       "      <td>Isabella</td>\n",
       "      <td>Hernández</td>\n",
       "      <td>Valdespino</td>\n",
       "      <td>Santa Fe</td>\n",
       "      <td>LEM</td>\n",
       "      <td>92.326</td>\n",
       "      <td>46.0</td>\n",
       "      <td>...</td>\n",
       "      <td>Monterrey</td>\n",
       "      <td>Verano 2022 Profesional</td>\n",
       "      <td>Resultado de Asignación</td>\n",
       "      <td>30/03/22 17:01</td>\n",
       "      <td>Asignado</td>\n",
       "      <td>Study Abroad</td>\n",
       "      <td>Si</td>\n",
       "      <td>Italia</td>\n",
       "      <td>Italia</td>\n",
       "      <td>Ciudad de Mexico</td>\n",
       "    </tr>\n",
       "    <tr>\n",
       "      <th>47844</th>\n",
       "      <td>81346</td>\n",
       "      <td>577669</td>\n",
       "      <td>A01561940</td>\n",
       "      <td>Ashley Alessandra</td>\n",
       "      <td>Valenzuela</td>\n",
       "      <td>Camacho</td>\n",
       "      <td>Chihuahua</td>\n",
       "      <td>IMA</td>\n",
       "      <td>92.024</td>\n",
       "      <td>41.0</td>\n",
       "      <td>...</td>\n",
       "      <td>Monterrey</td>\n",
       "      <td>Agosto - Diciembre 2022</td>\n",
       "      <td>Registro de carta de aceptación</td>\n",
       "      <td>30/03/22 17:10</td>\n",
       "      <td>Asignado</td>\n",
       "      <td>Intercambio Internacional</td>\n",
       "      <td>Si</td>\n",
       "      <td>Otro</td>\n",
       "      <td>Otro</td>\n",
       "      <td>Occidente</td>\n",
       "    </tr>\n",
       "    <tr>\n",
       "      <th>47845</th>\n",
       "      <td>81349</td>\n",
       "      <td>579143</td>\n",
       "      <td>A01283470</td>\n",
       "      <td>Mariana</td>\n",
       "      <td>Blando</td>\n",
       "      <td>Ortiz</td>\n",
       "      <td>Monterrey</td>\n",
       "      <td>LDI</td>\n",
       "      <td>87.648</td>\n",
       "      <td>38.0</td>\n",
       "      <td>...</td>\n",
       "      <td>Monterrey</td>\n",
       "      <td>Agosto - Diciembre 2022</td>\n",
       "      <td>Documentos de admisión (checklist) y Registrar...</td>\n",
       "      <td>30/03/22 17:19</td>\n",
       "      <td>Asignado</td>\n",
       "      <td>Study Abroad</td>\n",
       "      <td>Si</td>\n",
       "      <td>Italia</td>\n",
       "      <td>Italia</td>\n",
       "      <td>Norte</td>\n",
       "    </tr>\n",
       "    <tr>\n",
       "      <th>47846</th>\n",
       "      <td>81352</td>\n",
       "      <td>589315</td>\n",
       "      <td>A01154926</td>\n",
       "      <td>Luis Antonio</td>\n",
       "      <td>Urenda</td>\n",
       "      <td>Zacarías</td>\n",
       "      <td>Monterrey</td>\n",
       "      <td>IFI</td>\n",
       "      <td>86.714</td>\n",
       "      <td>48.0</td>\n",
       "      <td>...</td>\n",
       "      <td>Querétaro</td>\n",
       "      <td>Verano 2022 Profesional</td>\n",
       "      <td>Documentos de admisión (checklist) y Registrar...</td>\n",
       "      <td>30/03/22 17:25</td>\n",
       "      <td>Asignado</td>\n",
       "      <td>Study Abroad</td>\n",
       "      <td>Si</td>\n",
       "      <td>Francia</td>\n",
       "      <td>Francia</td>\n",
       "      <td>Norte</td>\n",
       "    </tr>\n",
       "    <tr>\n",
       "      <th>47847</th>\n",
       "      <td>81353</td>\n",
       "      <td>592076</td>\n",
       "      <td>A01374497</td>\n",
       "      <td>Antonio</td>\n",
       "      <td>Morales</td>\n",
       "      <td>López</td>\n",
       "      <td>Santa Fe</td>\n",
       "      <td>LIN</td>\n",
       "      <td>88.795</td>\n",
       "      <td>44.0</td>\n",
       "      <td>...</td>\n",
       "      <td>Querétaro</td>\n",
       "      <td>Verano 2022 Profesional</td>\n",
       "      <td>Resultado de Asignación</td>\n",
       "      <td>30/03/22 17:25</td>\n",
       "      <td>Asignado</td>\n",
       "      <td>Study Abroad</td>\n",
       "      <td>Si</td>\n",
       "      <td>Francia</td>\n",
       "      <td>Francia</td>\n",
       "      <td>Ciudad de Mexico</td>\n",
       "    </tr>\n",
       "  </tbody>\n",
       "</table>\n",
       "<p>47848 rows × 29 columns</p>\n",
       "</div>"
      ],
      "text/plain": [
       "       Unnamed: 0  Instancia  Matrícula             Nombre  Ap Paterno  \\\n",
       "0               0       8453  A01139867     Andrés Gerardo       Garza   \n",
       "1               1       8289  A01018302              Pablo     Zebadúa   \n",
       "2               2       8510  A01205500              Laura     Treviño   \n",
       "3               3       8007  A01139036    Arturo Mauricio        Lara   \n",
       "4               4      14315  A00757284       Ana Gabriela       Amaro   \n",
       "...           ...        ...        ...                ...         ...   \n",
       "47843       81342     589572  A01365530           Isabella   Hernández   \n",
       "47844       81346     577669  A01561940  Ashley Alessandra  Valenzuela   \n",
       "47845       81349     579143  A01283470            Mariana      Blando   \n",
       "47846       81352     589315  A01154926       Luis Antonio      Urenda   \n",
       "47847       81353     592076  A01374497            Antonio     Morales   \n",
       "\n",
       "       Ap Materno     Campus Programa  Promedio  Núm. MatAprobadas  ...  \\\n",
       "0         Canales  Monterrey      INT    90.491               57.0  ...   \n",
       "1            Vega   Santa Fe      ITC    85.684                0.0  ...   \n",
       "2       Hernández  Querétaro      ISC    89.810                0.0  ...   \n",
       "3        Martínez  Monterrey      CPF    85.465                0.0  ...   \n",
       "4       Rodríguez  Chihuahua      LMC    84.523                0.0  ...   \n",
       "...           ...        ...      ...       ...                ...  ...   \n",
       "47843  Valdespino   Santa Fe      LEM    92.326               46.0  ...   \n",
       "47844     Camacho  Chihuahua      IMA    92.024               41.0  ...   \n",
       "47845       Ortiz  Monterrey      LDI    87.648               38.0  ...   \n",
       "47846    Zacarías  Monterrey      IFI    86.714               48.0  ...   \n",
       "47847       López   Santa Fe      LIN    88.795               44.0  ...   \n",
       "\n",
       "       CampusAdministrador         PeriodoAcadémico  \\\n",
       "0                Querétaro        Enero - Mayo 2015   \n",
       "1                Monterrey        Enero - Mayo 2015   \n",
       "2                Monterrey        Enero - Mayo 2015   \n",
       "3              Guadalajara        Enero - Mayo 2015   \n",
       "4         Ciudad de México        Enero - Mayo 2015   \n",
       "...                    ...                      ...   \n",
       "47843            Monterrey  Verano 2022 Profesional   \n",
       "47844            Monterrey  Agosto - Diciembre 2022   \n",
       "47845            Monterrey  Agosto - Diciembre 2022   \n",
       "47846            Querétaro  Verano 2022 Profesional   \n",
       "47847            Querétaro  Verano 2022 Profesional   \n",
       "\n",
       "                                        Actividad Actual                Fecha  \\\n",
       "0                                Resultado de Asignación  20/AGO/2014 02:22PM   \n",
       "1                                Resultado de Asignación  29/AGO/2014 04:34PM   \n",
       "2                                Resultado de Asignación  29/AGO/2014 04:35PM   \n",
       "3                                Resultado de Asignación  29/AGO/2014 04:43PM   \n",
       "4                                Resultado de Asignación  29/AGO/2014 04:43PM   \n",
       "...                                                  ...                  ...   \n",
       "47843                            Resultado de Asignación       30/03/22 17:01   \n",
       "47844                    Registro de carta de aceptación       30/03/22 17:10   \n",
       "47845  Documentos de admisión (checklist) y Registrar...       30/03/22 17:19   \n",
       "47846  Documentos de admisión (checklist) y Registrar...       30/03/22 17:25   \n",
       "47847                            Resultado de Asignación       30/03/22 17:25   \n",
       "\n",
       "      Estatuslimpio  Intercambio Internacional PrimeraOpcion PaisSeleccionado  \\\n",
       "0          Asignado  Intercambio Internacional            Si   Estados Unidos   \n",
       "1          Asignado  Intercambio Internacional            No             Otro   \n",
       "2          Asignado  Intercambio Internacional            Si  República Checa   \n",
       "3          Asignado  Intercambio Internacional            No         Alemania   \n",
       "4          Asignado  Intercambio Internacional            No           España   \n",
       "...             ...                        ...           ...              ...   \n",
       "47843      Asignado               Study Abroad            Si           Italia   \n",
       "47844      Asignado  Intercambio Internacional            Si             Otro   \n",
       "47845      Asignado               Study Abroad            Si           Italia   \n",
       "47846      Asignado               Study Abroad            Si          Francia   \n",
       "47847      Asignado               Study Abroad            Si          Francia   \n",
       "\n",
       "          PaisAsignado            Región  \n",
       "0       Estados Unidos             Norte  \n",
       "1                 Otro  Ciudad de Mexico  \n",
       "2      República Checa        Centro Sur  \n",
       "3                 Otro             Norte  \n",
       "4                 Otro         Occidente  \n",
       "...                ...               ...  \n",
       "47843           Italia  Ciudad de Mexico  \n",
       "47844             Otro         Occidente  \n",
       "47845           Italia             Norte  \n",
       "47846          Francia             Norte  \n",
       "47847          Francia  Ciudad de Mexico  \n",
       "\n",
       "[47848 rows x 29 columns]"
      ]
     },
     "execution_count": 2,
     "metadata": {},
     "output_type": "execute_result"
    }
   ],
   "source": [
    "df = pd.read_csv('/Users/neira/Desktop/Concentración/Chuy/Intercambio Webapp/programasinternacionaleslimpio.csv')\n",
    "df"
   ]
  },
  {
   "cell_type": "code",
   "execution_count": 5,
   "metadata": {},
   "outputs": [
    {
     "data": {
      "application/vnd.plotly.v1+json": {
       "config": {
        "plotlyServerURL": "https://plot.ly"
       },
       "data": [
        {
         "branchvalues": "total",
         "domain": {
          "x": [
           0,
           1
          ],
          "y": [
           0,
           1
          ]
         },
         "hovertemplate": "labels=%{label}<br>count=%{value}<br>parent=%{parent}<br>id=%{id}<extra></extra>",
         "ids": [
          "Intercambio Internacional/No/Alemania",
          "Study Abroad/No/Alemania",
          "Intercambio Internacional/Si/Alemania",
          "Study Abroad/Si/Alemania",
          "Intercambio Internacional/No/Austria",
          "Study Abroad/No/Austria",
          "Intercambio Internacional/Si/Austria",
          "Study Abroad/Si/Austria",
          "Intercambio Internacional/No/Canada",
          "Study Abroad/No/Canada",
          "Intercambio Internacional/Si/Canada",
          "Study Abroad/Si/Canada",
          "Intercambio Internacional/No/Chile",
          "Study Abroad/No/Chile",
          "Intercambio Internacional/Si/Chile",
          "Study Abroad/Si/Chile",
          "Intercambio Internacional/No/China",
          "Study Abroad/No/China",
          "Intercambio Internacional/Si/China",
          "Study Abroad/Si/China",
          "Intercambio Internacional/No/España",
          "Study Abroad/No/España",
          "Intercambio Internacional/Si/España",
          "Study Abroad/Si/España",
          "Intercambio Internacional/No/Estados Unidos",
          "Study Abroad/No/Estados Unidos",
          "Intercambio Internacional/Si/Estados Unidos",
          "Study Abroad/Si/Estados Unidos",
          "Intercambio Internacional/No/Francia",
          "Study Abroad/No/Francia",
          "Intercambio Internacional/Si/Francia",
          "Study Abroad/Si/Francia",
          "Intercambio Internacional/No/Inglaterra",
          "Study Abroad/No/Inglaterra",
          "Intercambio Internacional/Si/Inglaterra",
          "Study Abroad/Si/Inglaterra",
          "Intercambio Internacional/No/Italia",
          "Study Abroad/No/Italia",
          "Intercambio Internacional/Si/Italia",
          "Study Abroad/Si/Italia",
          "Study Abroad/No/México",
          "Study Abroad/Si/México",
          "Intercambio Internacional/No/Otro",
          "Study Abroad/No/Otro",
          "Intercambio Internacional/Si/Otro",
          "Study Abroad/Si/Otro",
          "Intercambio Internacional/No/República Checa",
          "Study Abroad/No/República Checa",
          "Intercambio Internacional/Si/República Checa",
          "Study Abroad/Si/República Checa",
          "Intercambio Internacional/No",
          "Study Abroad/No",
          "Intercambio Internacional/Si",
          "Study Abroad/Si",
          "Intercambio Internacional",
          "Study Abroad"
         ],
         "labels": [
          "Alemania",
          "Alemania",
          "Alemania",
          "Alemania",
          "Austria",
          "Austria",
          "Austria",
          "Austria",
          "Canada",
          "Canada",
          "Canada",
          "Canada",
          "Chile",
          "Chile",
          "Chile",
          "Chile",
          "China",
          "China",
          "China",
          "China",
          "España",
          "España",
          "España",
          "España",
          "Estados Unidos",
          "Estados Unidos",
          "Estados Unidos",
          "Estados Unidos",
          "Francia",
          "Francia",
          "Francia",
          "Francia",
          "Inglaterra",
          "Inglaterra",
          "Inglaterra",
          "Inglaterra",
          "Italia",
          "Italia",
          "Italia",
          "Italia",
          "México",
          "México",
          "Otro",
          "Otro",
          "Otro",
          "Otro",
          "República Checa",
          "República Checa",
          "República Checa",
          "República Checa",
          "No",
          "No",
          "Si",
          "Si",
          "Intercambio Internacional",
          "Study Abroad"
         ],
         "name": "",
         "parents": [
          "Intercambio Internacional/No",
          "Study Abroad/No",
          "Intercambio Internacional/Si",
          "Study Abroad/Si",
          "Intercambio Internacional/No",
          "Study Abroad/No",
          "Intercambio Internacional/Si",
          "Study Abroad/Si",
          "Intercambio Internacional/No",
          "Study Abroad/No",
          "Intercambio Internacional/Si",
          "Study Abroad/Si",
          "Intercambio Internacional/No",
          "Study Abroad/No",
          "Intercambio Internacional/Si",
          "Study Abroad/Si",
          "Intercambio Internacional/No",
          "Study Abroad/No",
          "Intercambio Internacional/Si",
          "Study Abroad/Si",
          "Intercambio Internacional/No",
          "Study Abroad/No",
          "Intercambio Internacional/Si",
          "Study Abroad/Si",
          "Intercambio Internacional/No",
          "Study Abroad/No",
          "Intercambio Internacional/Si",
          "Study Abroad/Si",
          "Intercambio Internacional/No",
          "Study Abroad/No",
          "Intercambio Internacional/Si",
          "Study Abroad/Si",
          "Intercambio Internacional/No",
          "Study Abroad/No",
          "Intercambio Internacional/Si",
          "Study Abroad/Si",
          "Intercambio Internacional/No",
          "Study Abroad/No",
          "Intercambio Internacional/Si",
          "Study Abroad/Si",
          "Study Abroad/No",
          "Study Abroad/Si",
          "Intercambio Internacional/No",
          "Study Abroad/No",
          "Intercambio Internacional/Si",
          "Study Abroad/Si",
          "Intercambio Internacional/No",
          "Study Abroad/No",
          "Intercambio Internacional/Si",
          "Study Abroad/Si",
          "Intercambio Internacional",
          "Study Abroad",
          "Intercambio Internacional",
          "Study Abroad",
          "",
          ""
         ],
         "type": "sunburst",
         "values": [
          430,
          500,
          672,
          2108,
          97,
          447,
          140,
          887,
          101,
          640,
          197,
          3275,
          97,
          285,
          150,
          458,
          52,
          356,
          105,
          735,
          624,
          2323,
          684,
          6981,
          136,
          790,
          321,
          1648,
          624,
          717,
          1035,
          2308,
          53,
          217,
          100,
          1232,
          41,
          465,
          81,
          1636,
          221,
          2893,
          1192,
          2127,
          1662,
          3573,
          26,
          426,
          49,
          1931,
          3473,
          9514,
          5196,
          29665,
          8669,
          39179
         ]
        }
       ],
       "layout": {
        "legend": {
         "tracegroupgap": 0
        },
        "margin": {
         "t": 60
        },
        "template": {
         "data": {
          "bar": [
           {
            "error_x": {
             "color": "#2a3f5f"
            },
            "error_y": {
             "color": "#2a3f5f"
            },
            "marker": {
             "line": {
              "color": "#E5ECF6",
              "width": 0.5
             },
             "pattern": {
              "fillmode": "overlay",
              "size": 10,
              "solidity": 0.2
             }
            },
            "type": "bar"
           }
          ],
          "barpolar": [
           {
            "marker": {
             "line": {
              "color": "#E5ECF6",
              "width": 0.5
             },
             "pattern": {
              "fillmode": "overlay",
              "size": 10,
              "solidity": 0.2
             }
            },
            "type": "barpolar"
           }
          ],
          "carpet": [
           {
            "aaxis": {
             "endlinecolor": "#2a3f5f",
             "gridcolor": "white",
             "linecolor": "white",
             "minorgridcolor": "white",
             "startlinecolor": "#2a3f5f"
            },
            "baxis": {
             "endlinecolor": "#2a3f5f",
             "gridcolor": "white",
             "linecolor": "white",
             "minorgridcolor": "white",
             "startlinecolor": "#2a3f5f"
            },
            "type": "carpet"
           }
          ],
          "choropleth": [
           {
            "colorbar": {
             "outlinewidth": 0,
             "ticks": ""
            },
            "type": "choropleth"
           }
          ],
          "contour": [
           {
            "colorbar": {
             "outlinewidth": 0,
             "ticks": ""
            },
            "colorscale": [
             [
              0,
              "#0d0887"
             ],
             [
              0.1111111111111111,
              "#46039f"
             ],
             [
              0.2222222222222222,
              "#7201a8"
             ],
             [
              0.3333333333333333,
              "#9c179e"
             ],
             [
              0.4444444444444444,
              "#bd3786"
             ],
             [
              0.5555555555555556,
              "#d8576b"
             ],
             [
              0.6666666666666666,
              "#ed7953"
             ],
             [
              0.7777777777777778,
              "#fb9f3a"
             ],
             [
              0.8888888888888888,
              "#fdca26"
             ],
             [
              1,
              "#f0f921"
             ]
            ],
            "type": "contour"
           }
          ],
          "contourcarpet": [
           {
            "colorbar": {
             "outlinewidth": 0,
             "ticks": ""
            },
            "type": "contourcarpet"
           }
          ],
          "heatmap": [
           {
            "colorbar": {
             "outlinewidth": 0,
             "ticks": ""
            },
            "colorscale": [
             [
              0,
              "#0d0887"
             ],
             [
              0.1111111111111111,
              "#46039f"
             ],
             [
              0.2222222222222222,
              "#7201a8"
             ],
             [
              0.3333333333333333,
              "#9c179e"
             ],
             [
              0.4444444444444444,
              "#bd3786"
             ],
             [
              0.5555555555555556,
              "#d8576b"
             ],
             [
              0.6666666666666666,
              "#ed7953"
             ],
             [
              0.7777777777777778,
              "#fb9f3a"
             ],
             [
              0.8888888888888888,
              "#fdca26"
             ],
             [
              1,
              "#f0f921"
             ]
            ],
            "type": "heatmap"
           }
          ],
          "heatmapgl": [
           {
            "colorbar": {
             "outlinewidth": 0,
             "ticks": ""
            },
            "colorscale": [
             [
              0,
              "#0d0887"
             ],
             [
              0.1111111111111111,
              "#46039f"
             ],
             [
              0.2222222222222222,
              "#7201a8"
             ],
             [
              0.3333333333333333,
              "#9c179e"
             ],
             [
              0.4444444444444444,
              "#bd3786"
             ],
             [
              0.5555555555555556,
              "#d8576b"
             ],
             [
              0.6666666666666666,
              "#ed7953"
             ],
             [
              0.7777777777777778,
              "#fb9f3a"
             ],
             [
              0.8888888888888888,
              "#fdca26"
             ],
             [
              1,
              "#f0f921"
             ]
            ],
            "type": "heatmapgl"
           }
          ],
          "histogram": [
           {
            "marker": {
             "pattern": {
              "fillmode": "overlay",
              "size": 10,
              "solidity": 0.2
             }
            },
            "type": "histogram"
           }
          ],
          "histogram2d": [
           {
            "colorbar": {
             "outlinewidth": 0,
             "ticks": ""
            },
            "colorscale": [
             [
              0,
              "#0d0887"
             ],
             [
              0.1111111111111111,
              "#46039f"
             ],
             [
              0.2222222222222222,
              "#7201a8"
             ],
             [
              0.3333333333333333,
              "#9c179e"
             ],
             [
              0.4444444444444444,
              "#bd3786"
             ],
             [
              0.5555555555555556,
              "#d8576b"
             ],
             [
              0.6666666666666666,
              "#ed7953"
             ],
             [
              0.7777777777777778,
              "#fb9f3a"
             ],
             [
              0.8888888888888888,
              "#fdca26"
             ],
             [
              1,
              "#f0f921"
             ]
            ],
            "type": "histogram2d"
           }
          ],
          "histogram2dcontour": [
           {
            "colorbar": {
             "outlinewidth": 0,
             "ticks": ""
            },
            "colorscale": [
             [
              0,
              "#0d0887"
             ],
             [
              0.1111111111111111,
              "#46039f"
             ],
             [
              0.2222222222222222,
              "#7201a8"
             ],
             [
              0.3333333333333333,
              "#9c179e"
             ],
             [
              0.4444444444444444,
              "#bd3786"
             ],
             [
              0.5555555555555556,
              "#d8576b"
             ],
             [
              0.6666666666666666,
              "#ed7953"
             ],
             [
              0.7777777777777778,
              "#fb9f3a"
             ],
             [
              0.8888888888888888,
              "#fdca26"
             ],
             [
              1,
              "#f0f921"
             ]
            ],
            "type": "histogram2dcontour"
           }
          ],
          "mesh3d": [
           {
            "colorbar": {
             "outlinewidth": 0,
             "ticks": ""
            },
            "type": "mesh3d"
           }
          ],
          "parcoords": [
           {
            "line": {
             "colorbar": {
              "outlinewidth": 0,
              "ticks": ""
             }
            },
            "type": "parcoords"
           }
          ],
          "pie": [
           {
            "automargin": true,
            "type": "pie"
           }
          ],
          "scatter": [
           {
            "fillpattern": {
             "fillmode": "overlay",
             "size": 10,
             "solidity": 0.2
            },
            "type": "scatter"
           }
          ],
          "scatter3d": [
           {
            "line": {
             "colorbar": {
              "outlinewidth": 0,
              "ticks": ""
             }
            },
            "marker": {
             "colorbar": {
              "outlinewidth": 0,
              "ticks": ""
             }
            },
            "type": "scatter3d"
           }
          ],
          "scattercarpet": [
           {
            "marker": {
             "colorbar": {
              "outlinewidth": 0,
              "ticks": ""
             }
            },
            "type": "scattercarpet"
           }
          ],
          "scattergeo": [
           {
            "marker": {
             "colorbar": {
              "outlinewidth": 0,
              "ticks": ""
             }
            },
            "type": "scattergeo"
           }
          ],
          "scattergl": [
           {
            "marker": {
             "colorbar": {
              "outlinewidth": 0,
              "ticks": ""
             }
            },
            "type": "scattergl"
           }
          ],
          "scattermapbox": [
           {
            "marker": {
             "colorbar": {
              "outlinewidth": 0,
              "ticks": ""
             }
            },
            "type": "scattermapbox"
           }
          ],
          "scatterpolar": [
           {
            "marker": {
             "colorbar": {
              "outlinewidth": 0,
              "ticks": ""
             }
            },
            "type": "scatterpolar"
           }
          ],
          "scatterpolargl": [
           {
            "marker": {
             "colorbar": {
              "outlinewidth": 0,
              "ticks": ""
             }
            },
            "type": "scatterpolargl"
           }
          ],
          "scatterternary": [
           {
            "marker": {
             "colorbar": {
              "outlinewidth": 0,
              "ticks": ""
             }
            },
            "type": "scatterternary"
           }
          ],
          "surface": [
           {
            "colorbar": {
             "outlinewidth": 0,
             "ticks": ""
            },
            "colorscale": [
             [
              0,
              "#0d0887"
             ],
             [
              0.1111111111111111,
              "#46039f"
             ],
             [
              0.2222222222222222,
              "#7201a8"
             ],
             [
              0.3333333333333333,
              "#9c179e"
             ],
             [
              0.4444444444444444,
              "#bd3786"
             ],
             [
              0.5555555555555556,
              "#d8576b"
             ],
             [
              0.6666666666666666,
              "#ed7953"
             ],
             [
              0.7777777777777778,
              "#fb9f3a"
             ],
             [
              0.8888888888888888,
              "#fdca26"
             ],
             [
              1,
              "#f0f921"
             ]
            ],
            "type": "surface"
           }
          ],
          "table": [
           {
            "cells": {
             "fill": {
              "color": "#EBF0F8"
             },
             "line": {
              "color": "white"
             }
            },
            "header": {
             "fill": {
              "color": "#C8D4E3"
             },
             "line": {
              "color": "white"
             }
            },
            "type": "table"
           }
          ]
         },
         "layout": {
          "annotationdefaults": {
           "arrowcolor": "#2a3f5f",
           "arrowhead": 0,
           "arrowwidth": 1
          },
          "autotypenumbers": "strict",
          "coloraxis": {
           "colorbar": {
            "outlinewidth": 0,
            "ticks": ""
           }
          },
          "colorscale": {
           "diverging": [
            [
             0,
             "#8e0152"
            ],
            [
             0.1,
             "#c51b7d"
            ],
            [
             0.2,
             "#de77ae"
            ],
            [
             0.3,
             "#f1b6da"
            ],
            [
             0.4,
             "#fde0ef"
            ],
            [
             0.5,
             "#f7f7f7"
            ],
            [
             0.6,
             "#e6f5d0"
            ],
            [
             0.7,
             "#b8e186"
            ],
            [
             0.8,
             "#7fbc41"
            ],
            [
             0.9,
             "#4d9221"
            ],
            [
             1,
             "#276419"
            ]
           ],
           "sequential": [
            [
             0,
             "#0d0887"
            ],
            [
             0.1111111111111111,
             "#46039f"
            ],
            [
             0.2222222222222222,
             "#7201a8"
            ],
            [
             0.3333333333333333,
             "#9c179e"
            ],
            [
             0.4444444444444444,
             "#bd3786"
            ],
            [
             0.5555555555555556,
             "#d8576b"
            ],
            [
             0.6666666666666666,
             "#ed7953"
            ],
            [
             0.7777777777777778,
             "#fb9f3a"
            ],
            [
             0.8888888888888888,
             "#fdca26"
            ],
            [
             1,
             "#f0f921"
            ]
           ],
           "sequentialminus": [
            [
             0,
             "#0d0887"
            ],
            [
             0.1111111111111111,
             "#46039f"
            ],
            [
             0.2222222222222222,
             "#7201a8"
            ],
            [
             0.3333333333333333,
             "#9c179e"
            ],
            [
             0.4444444444444444,
             "#bd3786"
            ],
            [
             0.5555555555555556,
             "#d8576b"
            ],
            [
             0.6666666666666666,
             "#ed7953"
            ],
            [
             0.7777777777777778,
             "#fb9f3a"
            ],
            [
             0.8888888888888888,
             "#fdca26"
            ],
            [
             1,
             "#f0f921"
            ]
           ]
          },
          "colorway": [
           "#636efa",
           "#EF553B",
           "#00cc96",
           "#ab63fa",
           "#FFA15A",
           "#19d3f3",
           "#FF6692",
           "#B6E880",
           "#FF97FF",
           "#FECB52"
          ],
          "font": {
           "color": "#2a3f5f"
          },
          "geo": {
           "bgcolor": "white",
           "lakecolor": "white",
           "landcolor": "#E5ECF6",
           "showlakes": true,
           "showland": true,
           "subunitcolor": "white"
          },
          "hoverlabel": {
           "align": "left"
          },
          "hovermode": "closest",
          "mapbox": {
           "style": "light"
          },
          "paper_bgcolor": "white",
          "plot_bgcolor": "#E5ECF6",
          "polar": {
           "angularaxis": {
            "gridcolor": "white",
            "linecolor": "white",
            "ticks": ""
           },
           "bgcolor": "#E5ECF6",
           "radialaxis": {
            "gridcolor": "white",
            "linecolor": "white",
            "ticks": ""
           }
          },
          "scene": {
           "xaxis": {
            "backgroundcolor": "#E5ECF6",
            "gridcolor": "white",
            "gridwidth": 2,
            "linecolor": "white",
            "showbackground": true,
            "ticks": "",
            "zerolinecolor": "white"
           },
           "yaxis": {
            "backgroundcolor": "#E5ECF6",
            "gridcolor": "white",
            "gridwidth": 2,
            "linecolor": "white",
            "showbackground": true,
            "ticks": "",
            "zerolinecolor": "white"
           },
           "zaxis": {
            "backgroundcolor": "#E5ECF6",
            "gridcolor": "white",
            "gridwidth": 2,
            "linecolor": "white",
            "showbackground": true,
            "ticks": "",
            "zerolinecolor": "white"
           }
          },
          "shapedefaults": {
           "line": {
            "color": "#2a3f5f"
           }
          },
          "ternary": {
           "aaxis": {
            "gridcolor": "white",
            "linecolor": "white",
            "ticks": ""
           },
           "baxis": {
            "gridcolor": "white",
            "linecolor": "white",
            "ticks": ""
           },
           "bgcolor": "#E5ECF6",
           "caxis": {
            "gridcolor": "white",
            "linecolor": "white",
            "ticks": ""
           }
          },
          "title": {
           "x": 0.05
          },
          "xaxis": {
           "automargin": true,
           "gridcolor": "white",
           "linecolor": "white",
           "ticks": "",
           "title": {
            "standoff": 15
           },
           "zerolinecolor": "white",
           "zerolinewidth": 2
          },
          "yaxis": {
           "automargin": true,
           "gridcolor": "white",
           "linecolor": "white",
           "ticks": "",
           "title": {
            "standoff": 15
           },
           "zerolinecolor": "white",
           "zerolinewidth": 2
          }
         }
        }
       }
      }
     },
     "metadata": {},
     "output_type": "display_data"
    }
   ],
   "source": [
    "fig = px.sunburst(data_frame=df, path=['Intercambio Internacional', 'PrimeraOpcion', 'PaisAsignado'])\n",
    "fig.show()"
   ]
  }
 ],
 "metadata": {
  "kernelspec": {
   "display_name": "Python 3.10.6 64-bit",
   "language": "python",
   "name": "python3"
  },
  "language_info": {
   "codemirror_mode": {
    "name": "ipython",
    "version": 3
   },
   "file_extension": ".py",
   "mimetype": "text/x-python",
   "name": "python",
   "nbconvert_exporter": "python",
   "pygments_lexer": "ipython3",
   "version": "3.10.6"
  },
  "orig_nbformat": 4,
  "vscode": {
   "interpreter": {
    "hash": "aee8b7b246df8f9039afb4144a1f6fd8d2ca17a180786b69acc140d282b71a49"
   }
  }
 },
 "nbformat": 4,
 "nbformat_minor": 2
}
